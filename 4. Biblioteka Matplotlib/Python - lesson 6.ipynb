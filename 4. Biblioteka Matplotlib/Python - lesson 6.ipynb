{
 "cells": [
  {
   "cell_type": "markdown",
   "id": "2f2db825",
   "metadata": {},
   "source": [
    "## 9. Wykresy danych.\n",
    "### Tworzenie wykresu za pomocą matplotlib\n",
    "\n",
    "Do rysowania różnego rodzaju wykresów przydatne będą możliwości biblioteki matplotlib.\n",
    "\n",
    "Poniższy przykład przedstawia import wymaganych bibliotek oraz danych zewnętrznych."
   ]
  },
  {
   "cell_type": "code",
   "execution_count": null,
   "id": "d82150d8",
   "metadata": {
    "vscode": {
     "languageId": "plaintext"
    }
   },
   "outputs": [],
   "source": [
    "#import bibliotek i danych\n",
    "import pandas as pd\n",
    "import matplotlib.pyplot as pl"
   ]
  },
  {
   "cell_type": "code",
   "execution_count": null,
   "id": "9a6cbecc",
   "metadata": {
    "vscode": {
     "languageId": "plaintext"
    }
   },
   "outputs": [],
   "source": [
    "dane = pd.read_csv(\"DanePogodowe2021.csv\", sep=\";\", decimal=\",\")"
   ]
  },
  {
   "cell_type": "code",
   "execution_count": null,
   "id": "6f13d057",
   "metadata": {
    "vscode": {
     "languageId": "plaintext"
    }
   },
   "outputs": [],
   "source": [
    "tmp_wind = dane.loc[:,['Temperatura','Wiatr']]\n",
    "print(tmp_wind)\n",
    "\n",
    "pl.plot(tmp_wind)\n",
    "pl.show()"
   ]
  },
  {
   "cell_type": "markdown",
   "id": "23825f9a",
   "metadata": {},
   "source": [
    "### Formatowanie obszaru wykresu"
   ]
  },
  {
   "cell_type": "code",
   "execution_count": null,
   "id": "081bccec",
   "metadata": {
    "vscode": {
     "languageId": "plaintext"
    }
   },
   "outputs": [],
   "source": [
    "Tmp = dane.loc[:,['Temperatura']]\n",
    "Wnd = dane.loc[:,['Wiatr']]\n",
    "\n",
    "pl.figure(figsize=[20,8])\n",
    "pl.title(\"Wykres dobowy temperatury w Tarnowie w 2021 roku\")\n",
    "pl.xlabel('Dzień roku')\n",
    "pl.ylabel(\"Temperatura [C] i wiatr [m/s]\")\n",
    "pl.axis([0,366,-20,40])\n",
    "pl.grid(True,which=\"both\",axis=\"both\",alpha=.5)\n",
    "pl.plot(Tmp,'-r+')\n",
    "pl.plot(Wnd,'--go')\n",
    "pl.legend([\"Tmp\",\"Wind\"])\n",
    "\n",
    "pl.show()"
   ]
  },
  {
   "cell_type": "markdown",
   "id": "616c7194",
   "metadata": {},
   "source": [
    "### Dwa wykresy na osobnych osiach Y"
   ]
  },
  {
   "cell_type": "code",
   "execution_count": null,
   "id": "54fd8aea",
   "metadata": {
    "vscode": {
     "languageId": "plaintext"
    }
   },
   "outputs": [],
   "source": [
    "Tmp = dane.loc[:,'Temperatura']\n",
    "Wnd = dane.loc[:,'Wiatr']\n",
    "\n",
    "fig, axis1 = pl.subplots(figsize=(20,8)) \n",
    "\n",
    "axis1.set_title(\"Wykres dobowy temperatury i wiatru w Tarnowie w 2021 roku\")\n",
    "axis1.set_xlabel('Dni roku') \n",
    "axis1.set_ylabel('Temperatura [C]', color = 'red') \n",
    "axis1.plot(Tmp, 'r') \n",
    "axis1.axis([0,370,-20,40])\n",
    "\n",
    "axis2 = axis1.twinx() \n",
    "axis2.axis([0,370,-1,9]) \n",
    "axis2.set_ylabel('Wiatr [m/s]', color = 'blue') \n",
    "axis2.plot(Wnd, '--bs') \n",
    "\n",
    "pl.show()\n"
   ]
  },
  {
   "cell_type": "markdown",
   "id": "366096bc",
   "metadata": {},
   "source": [
    "### Przykład (funkcja liniowa i kwadratowa)"
   ]
  },
  {
   "cell_type": "code",
   "execution_count": null,
   "id": "d7894e19",
   "metadata": {
    "vscode": {
     "languageId": "plaintext"
    }
   },
   "outputs": [],
   "source": [
    "x = range(-10,10)\n",
    "a = 2.4\n",
    "b = -3.7\n",
    "#a = float(input('Podaj a '))\n",
    "#b = float(input('Podaj b '))\n",
    "y = []\n",
    "for xi in x:\n",
    "  y.append(a*xi+b)\n",
    "\n",
    "\n",
    "pl.figure(figsize=[12,12])\n",
    "pl.title(\"Funkcja liniowa\")\n",
    "pl.xlabel('x')\n",
    "pl.ylabel(\"y\")\n",
    "pl.axis([-10,10,-10,10])\n",
    "pl.grid(True,which=\"both\",axis=\"both\",alpha=.5)\n",
    "pl.plot(x,y,'--ro')\n",
    "pl.show()"
   ]
  },
  {
   "cell_type": "code",
   "execution_count": null,
   "id": "3a0fc6ac",
   "metadata": {
    "vscode": {
     "languageId": "plaintext"
    }
   },
   "outputs": [],
   "source": [
    "x = range(-10,10)\n",
    "a = 1.0\n",
    "b = .3\n",
    "c = -4.3\n",
    "#a = float(input('Podaj a '))\n",
    "#b = float(input('Podaj b '))\n",
    "#c = float(input('Podaj c '))\n",
    "y = []\n",
    "for xi in x:\n",
    "  y.append(a*xi*xi+b*xi+c)\n",
    "\n",
    "\n",
    "pl.figure(figsize=[12,12])\n",
    "pl.title(\"Funkcja kwadratowa\")\n",
    "pl.xlabel('x')\n",
    "pl.ylabel(\"y\")\n",
    "pl.axis([-10,10,-10,10])\n",
    "pl.grid(True,which=\"both\",axis=\"both\",alpha=.5)\n",
    "pl.plot(x,y,'--bo')\n",
    "pl.show()"
   ]
  },
  {
   "cell_type": "markdown",
   "id": "59e4cffe",
   "metadata": {},
   "source": [
    "### Rysowanie wykresów - pandas i matplotlib:\n",
    "- wykres pudełkowy\n",
    "- wykres punktowy\n",
    "- wykres bąbelkowy\n",
    "- histogram\n",
    "- kołowy\n",
    "\n",
    "Wykresy można rysować przy użyciu biblioteki matplotlib (tak jak w powyższych przykładach) albo korzystać z dedykowanej metody plot biblioteki pandas. "
   ]
  },
  {
   "cell_type": "markdown",
   "id": "ff645dbd",
   "metadata": {},
   "source": [
    "### Wykres pudełkowy:\n",
    "Wykres przedstawia rozkład jakiejść cechy statystycznej. \n",
    "\n",
    "Budowa: \n",
    "- dolna krawędź odcinka (najczęściej najmniejsza wartość), \n",
    "- górna krawędź odcinka (najczęściej najwyższa wartość), \n",
    "- dolna krawędź pudełka (pierwszy kwartyl - 25% danych położona jest poniżej)\n",
    "- górna krawędź pudełka (trzeci kwartyl - 25% danych położona jest powyżej)\n",
    "- wysokość pudełka (rozstęp ćwiartkowy, drugi kwartyl - 50% danych)\n",
    "- zielona linia - mediana\n"
   ]
  },
  {
   "cell_type": "code",
   "execution_count": null,
   "id": "02f220c0",
   "metadata": {
    "vscode": {
     "languageId": "plaintext"
    }
   },
   "outputs": [],
   "source": [
    "dataFrame = pd.DataFrame({\"A\": [-12,32,12,42], \"B\": [33,-23,54,-76], \"C\": [12,3,42,-23]})\n",
    "\n",
    "dataFrame.plot.box(grid='True',figsize=(10,7))"
   ]
  },
  {
   "cell_type": "markdown",
   "id": "00df9b4a",
   "metadata": {},
   "source": [
    "### Wykres punktowy"
   ]
  },
  {
   "cell_type": "code",
   "execution_count": null,
   "id": "9232a4bd",
   "metadata": {
    "vscode": {
     "languageId": "plaintext"
    }
   },
   "outputs": [],
   "source": [
    "data = {\n",
    "    \"y\": [23,44,21,54,24,65,65,87,43,23],\n",
    "    \"x\": [87,43,23,23,44,21,54,34,65,65]   \n",
    "}\n",
    "\n",
    "pl.figure(figsize=[12,12])\n",
    "pl.grid(True,which=\"both\",axis=\"both\",alpha=.5)\n",
    "pl.scatter(data[\"x\"],data[\"y\"])\n",
    "pl.show()\n",
    "\n",
    "dataFrame = pd.DataFrame(data)\n",
    "dataFrame.plot.scatter(x='x', y='y',grid = True,figsize = (12,12))"
   ]
  },
  {
   "cell_type": "markdown",
   "id": "9020d5c8",
   "metadata": {},
   "source": [
    "### Wykres bąbelkowy (punktowy)\n"
   ]
  },
  {
   "cell_type": "code",
   "execution_count": null,
   "id": "824aa780",
   "metadata": {
    "vscode": {
     "languageId": "plaintext"
    }
   },
   "outputs": [],
   "source": [
    "\n",
    "data = {\n",
    "    \"y\": [23,44,21,54,24,65,65,87,43,23],\n",
    "    \"x\": [87,43,23,23,44,21,54,34,65,65],\n",
    "    \"v\": [112,412,516,212,715,819,315,516,412,214]   \n",
    "}\n",
    "\n",
    "pl.scatter(data[\"x\"],data[\"y\"],data[\"v\"],c=data[\"v\"])\n",
    "pl.show()"
   ]
  },
  {
   "cell_type": "markdown",
   "id": "7bedd539",
   "metadata": {},
   "source": [
    "### Histogram"
   ]
  },
  {
   "cell_type": "code",
   "execution_count": null,
   "id": "02365dbe",
   "metadata": {
    "vscode": {
     "languageId": "plaintext"
    }
   },
   "outputs": [],
   "source": [
    "dane = [23,44,21,54,24,65,65,87,43,23,87,43,23,23,44,21,54,34,65,65]   \n",
    "\n",
    "pl.hist(dane)\n",
    "pl.show()\n",
    "print()\n",
    "pl.hist(dane, bins = 15)\n",
    "pl.show()\n",
    "print()\n",
    "pl.hist(dane, bins=[0,20,40,60,80,100])\n",
    "pl.show()"
   ]
  },
  {
   "cell_type": "markdown",
   "id": "0f2b1e72",
   "metadata": {},
   "source": [
    "### Wykres kołowy"
   ]
  },
  {
   "cell_type": "code",
   "execution_count": null,
   "id": "1fc60a53",
   "metadata": {
    "vscode": {
     "languageId": "plaintext"
    }
   },
   "outputs": [],
   "source": [
    "dataFrame = pd.DataFrame({\"rozmiar\": [2**31,2**30,2**29,2**28,2**28]}, index = [\"Klasa A\",\"Klasa B\",\"Klasa C\",\"Klasa D\",\"Reszta\"])\n",
    "dataFrame.plot.pie(y='rozmiar', figsize=(8, 8))"
   ]
  }
 ],
 "metadata": {
  "language_info": {
   "name": "python"
  }
 },
 "nbformat": 4,
 "nbformat_minor": 5
}
