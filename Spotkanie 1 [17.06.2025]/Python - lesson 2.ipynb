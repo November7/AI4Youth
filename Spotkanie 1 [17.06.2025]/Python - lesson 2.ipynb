{
  "cells": [
    {
      "cell_type": "markdown",
      "metadata": {
        "id": "9atHRYeUv-dw"
      },
      "source": [
        "# **Podstawy programowania w języku Python - część 2**\n",
        "\n"
      ]
    },
    {
      "cell_type": "markdown",
      "metadata": {
        "id": "JcrPhpVIiJ_o"
      },
      "source": [
        "## 5\\. Pętle\n",
        "Pętle są wykorzysytwane do wielokrotnego wykonywania określonego bloku instrukcji. Iteracja - pojedyncze powtórzenie pętli.\n",
        "\n",
        "Załóżmy że naszym zadaniem jest wypisanie na ekranie cyfr kolejno od 0 do 9. Naturalnym pomysłem na rozwiązanie tego zadania jest 10-krotne użycie funkcji print() lub użycie jednej funkcji print(), której podamy 10 argumentów. Rozwiązanie to nie jest jednak optymalne. "
      ]
    },
    {
      "cell_type": "code",
      "execution_count": null,
      "metadata": {
        "id": "J0Lw7tIejVzi"
      },
      "outputs": [],
      "source": [
        "print(\"Rozwiązanie intuicyjne\")\n",
        "print(0, 1, 2, 3, 4, 5, 6, 7, 8, 9, sep=\"\\n\")"
      ]
    },
    {
      "cell_type": "markdown",
      "metadata": {
        "id": "FYbmSheulMx_"
      },
      "source": [
        "### 5.1. Pętla *while*\n",
        "Pętla while wykonuje kolejną iterację, jeżeli wyrażenie warunkowe jest prawdziwe. Warunek sprawdzany jest przed każdą iteracją.\n",
        "W poniższym przykładzie wykorzystywana jest zmienna `i` która pełni rolę licznika pętli - zmiennej kontrolującą ilość iteracji. Przed rozpoczęciem pętli, licznik musi mieć nadaną wartość początkową. Na końcu każdej iteracji wartość licznika jest zwiększana o 1 (inkrementowana).\n",
        "\n",
        "Zapamiętaj:\n",
        "- Iteracja - pojedyncze powtórzenie pętli\n",
        "- Inkrementacja - zwiększenie zmiennej o 1\n",
        "- Dekrementacja - zmniejszenie wartości o 1"
      ]
    },
    {
      "cell_type": "code",
      "execution_count": null,
      "metadata": {
        "id": "TwyI1F7DlU01"
      },
      "outputs": [],
      "source": [
        "i=0\n",
        "\n",
        "while i<10:\n",
        "  print(i)\n",
        "  i+=1"
      ]
    },
    {
      "cell_type": "markdown",
      "metadata": {
        "id": "oDdj-L2oMoyb"
      },
      "source": [
        "### 5.2. Pętla *for*\n",
        "\n",
        "Pętla for wykonuje iterację dla każdego elementu zbioru podanego w konstrukcji pętli. W poniższym przykładzie zbiorem jest funkcja `range`, zwracająca sekwencję 10 wartości: od 0 do 9\n",
        "\n",
        "Użycie funkcji range: \n",
        "\n",
        "- `range(stop)` - zakres <0, stop)\n",
        "- `range(start,stop)` - zakres <start, stop)\n",
        "- `range(start,stop,step)` - zakres <start, stop), skok co *step*\n"
      ]
    },
    {
      "cell_type": "code",
      "execution_count": null,
      "metadata": {
        "colab": {
          "base_uri": "https://localhost:8080/"
        },
        "id": "flJ_xqszP11A",
        "outputId": "9b4c3989-7a5b-4034-f7e8-378441254aa0"
      },
      "outputs": [
        {
          "name": "stdout",
          "output_type": "stream",
          "text": [
            "Użycie pętli for od 0 do 9:\n",
            "0, 1, 2, 3, 4, 5, 6, 7, 8, 9, \n",
            "\n",
            "Użycie pętli for od 5 do 9:\n",
            "5, 6, 7, 8, 9, \n",
            "\n",
            "Użycie pętli for od 0 do 99 co 3:\n",
            "0, 3, 6, 9, 12, 15, 18, 21, 24, 27, 30, 33, 36, 39, 42, 45, 48, 51, 54, 57, 60, 63, 66, 69, 72, 75, 78, 81, 84, 87, 90, 93, 96, 99, "
          ]
        }
      ],
      "source": [
        "print(\"Użycie pętli for od 0 do 9:\")\n",
        "\n",
        "for i in range(10):\n",
        "  print(i, end=', ')\n",
        "\n",
        "print(\"\\n\\nUżycie pętli for od 5 do 9:\")\n",
        "\n",
        "for i in range(5,10):\n",
        "  print(i, end=', ')\n",
        "\n",
        "print(\"\\n\\nUżycie pętli for od 0 do 99 co 3:\")\n",
        "\n",
        "for i in range(0,100,3):\n",
        "  print(i, end=', ')"
      ]
    },
    {
      "cell_type": "markdown",
      "metadata": {
        "id": "8lZFtBAg2LOO"
      },
      "source": [
        "### 5.3. Przerywanie pętli, pomijanie iteracji\n",
        "\n",
        "Zarówno pętla `for` jak i `while` może zostać przerwana od węwnątrze przed wykonaniem zaplanowanej ilości iteracji. \n",
        "\n",
        "Poniższy przykład wyświetla liczby z zakresu podanego przez użytkownika, ale gdy pojawi się liczba podzielna przez 17 to przerywa działanie (chyba, że wcześniej osiągnie koniec podanego zakresu)."
      ]
    },
    {
      "cell_type": "code",
      "execution_count": null,
      "metadata": {
        "id": "21-eJBX92mPD"
      },
      "outputs": [],
      "source": [
        "print(\"Program szuka pierwszej liczby z podanego zakresu, która jest podzielna przez 17\")\n",
        "start = int(input(\"Podaj początek zakresu \"))\n",
        "stop = int(input(\"Podaj koniec zakresu \"))\n",
        "\n",
        "for i in range(start,stop):\n",
        "  print(i)\n",
        "  if i % 17 == 0:\n",
        "    break\n",
        "    \n",
        "print(\"Odp: \",i,\" jest podzielne przez 17\")"
      ]
    },
    {
      "cell_type": "markdown",
      "metadata": {
        "id": "Iem65Ito4OO9"
      },
      "source": [
        "Możliwe jest również pominięcie konkretnej iteracji (przejście do kolejnej iteracji), które z jakiś powodów nie powinny być wykonane.\n",
        "\n",
        "Poniższy przykład wyświetla liczby z podanego zakresu, pomijając te, które są podzielne przez 13 lub 17"
      ]
    },
    {
      "cell_type": "code",
      "execution_count": null,
      "metadata": {
        "id": "MS7X6o-_4mNC"
      },
      "outputs": [],
      "source": [
        "print(\"Program wyświetla liczby z podanego zakresu, z wyjątkiem tych, które są podzielne przez 13 lub 17\")\n",
        "start = int(input(\"Podaj początek zakresu \"))\n",
        "stop = int(input(\"Podaj koniec zakresu \"))\n",
        "\n",
        "for i in range(start,stop):\n",
        "  if i % 17 == 0 or i % 13 == 0:\n",
        "    print(\"pomijam\")\n",
        "    continue\n",
        "  print(i)"
      ]
    },
    {
      "cell_type": "markdown",
      "metadata": {
        "id": "oqc7TvFPtW66"
      },
      "source": [
        "Przypomnij sobie przykład z poprzedniej lekcji - \"kalkulator\" wykonujący obliczenia na podanych argumentach. Program potrafił tylko jednokrotnie pobrać dane i wykonać wybrane działanie arytmetyczne. \n",
        "\n",
        "W poniższym przykładzie zostanie wykorzystana pętla, dzięki której program będzie mógł wykonywać działania do czasu zakończenia go przez użytkownika."
      ]
    },
    {
      "cell_type": "code",
      "execution_count": null,
      "metadata": {
        "id": "aJjOXjiRtW66"
      },
      "outputs": [],
      "source": [
        "from IPython.display import clear_output #dołączenie wymaganej biblioteki \n",
        "\n",
        "x = ''\n",
        "y = ''\n",
        "\n",
        "while True:\n",
        "  clear_output(wait=False) #czyszczenie ekranu notatnika\n",
        "  print(\"\"\"Wybierz jedną z opcji:\\n\n",
        "  ------------- Menu ----------------\n",
        "      1. Podaj dane liczbowe\n",
        "      2. Dodawanie\n",
        "      3. Odejmowanie\n",
        "      4. Mnożenie\n",
        "      5. Dzielenie\n",
        "      6. Dzielenie całkowite\n",
        "      7. Dzielenie modulo (reszta z dzielenia)\n",
        "      8. Koniec programu\n",
        "  -----------------------------------\n",
        "      \"\"\")\n",
        "  opcja = int(input(\"Podaj opcję \"))\n",
        "\n",
        "  if opcja == 8:\n",
        "    print(\"Do widzenia\")\n",
        "    break  \n",
        "  elif opcja == 1:\n",
        "    x = float(input(\"Podaj argument 1: \"))\n",
        "    y = float(input(\"Podaj argument 2: \"))  \n",
        "    ix = int(x) #obliczanie wartości całkowitej tylko jeden raz podczas wprowadzenia danych (a nie za każdym razem)\n",
        "    iy = int(y)\n",
        "  elif x == '' or y == '':\n",
        "    print(\"Brak danych! wybierz opcję nr 1\")   \n",
        "  elif opcja == 2:\n",
        "    print(\"Wynik dodawania: \",x+y)\n",
        "  elif opcja == 3:\n",
        "    print(\"Wynik odejmowania: \",x-y)\n",
        "  elif opcja == 4:\n",
        "    print(\"Wynik mnożenia: \",x*y)\n",
        "  elif opcja == 5:\n",
        "    if y == 0:\n",
        "      print(\"nie mogę podzielić przez zero!\")\n",
        "    else:\n",
        "      print(\"Wynik dzielenia: \",x/y)\n",
        "  elif opcja == 6:\n",
        "    if iy == 0:\n",
        "      print(\"nie mogę podzielić przez zero!\")\n",
        "    else:\n",
        "     print(\"Wynik dzielenia całkowitego: \",ix // iy)\n",
        "  elif opcja == 7:   \n",
        "    if iy == 0:\n",
        "      print(\"nie mogę podzielić przez zero!\")\n",
        "    else:\n",
        "      print(\"Reszta z dzielenia całkowitego: \",ix % iy)\n",
        "  else:\n",
        "    print(\"Nieznana opcja\")\n",
        "  input(\"Press any key... \")\n",
        "##"
      ]
    },
    {
      "cell_type": "markdown",
      "metadata": {
        "id": "W57PTM-wkY5M"
      },
      "source": [
        "Kolejny przykład do gra.\n",
        "\n",
        "Zadaniem skryptu będzie wylosowanie liczby z zakresu od 1 do 1000 oraz udzielanie odpowiedzi czy liczba podawana przez gracza została odgadnięta, czy jest zbyt duża, a może zbyt mała.\n",
        "Zadaniem użytkownika, będzie odgadnięcie tej liczby w jak najmniejszej liczbie kroków."
      ]
    },
    {
      "cell_type": "code",
      "execution_count": null,
      "metadata": {
        "id": "dbARXHQblFzD"
      },
      "outputs": [],
      "source": [
        "from random import randint\n",
        "\n",
        "wylosowana_liczba = randint(1, 1000)\n",
        "#print(wylosowana_liczba) #możesz podglądnąć wylosowaną liczbę\n",
        "\n",
        "proba = 1\n",
        "while True: #pętla nieskończona, można dać ograniczenie do 10, 20, 30 prób?\n",
        "  print(\"Próba \",proba)\n",
        "  liczba = int(input(\"Podaj liczbe: \"))\n",
        "  if wylosowana_liczba == liczba:\n",
        "     print(\"Brawo, odgadłeś  wylosowaną liczbę za \",proba,\" razem\")\n",
        "     break\n",
        "  elif wylosowana_liczba > liczba:\n",
        "     print(\"Za mało\")\n",
        "  elif wylosowana_liczba < liczba:\n",
        "     print(\"Za dużo\")\n",
        "  proba+=1"
      ]
    }
  ],
  "metadata": {
    "colab": {
      "collapsed_sections": [],
      "name": "Python - lekcja 2.ipynb",
      "provenance": []
    },
    "kernelspec": {
      "display_name": "Python 3",
      "language": "python",
      "name": "python3"
    },
    "language_info": {
      "codemirror_mode": {
        "name": "ipython",
        "version": 3
      },
      "file_extension": ".py",
      "mimetype": "text/x-python",
      "name": "python",
      "nbconvert_exporter": "python",
      "pygments_lexer": "ipython3",
      "version": "3.9.10"
    }
  },
  "nbformat": 4,
  "nbformat_minor": 0
}
