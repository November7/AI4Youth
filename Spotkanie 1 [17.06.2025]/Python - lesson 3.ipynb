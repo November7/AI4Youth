{
  "cells": [
    {
      "cell_type": "markdown",
      "metadata": {
        "id": "9atHRYeUv-dw"
      },
      "source": [
        "# **Podstawy programowania w języku Python - część 3**\n",
        "\n"
      ]
    },
    {
      "cell_type": "markdown",
      "metadata": {
        "id": "uksLA6kNtVxg"
      },
      "source": [
        "## 7\\. Funkcje \n",
        "\n",
        "\n",
        "\n"
      ]
    },
    {
      "cell_type": "markdown",
      "metadata": {
        "id": "qIgLlZvAHRxS"
      },
      "source": [
        "### 7.1. Wprowadzenie teoretyczne\n",
        "\n",
        "\n",
        "Funkcja jest to zbiór kilku linii kodu, który razem ma tworzyć pewną całość. Wykorzystujemy ją głównie wtedy gdy wiemy, że jakąś złożoną operację wykonamy kilkukrotnie. Funkcję wystarczy zdefiniować przed jej pierwszym użyciem czyli określić jej zawartość i sposób działania. Definicja funkcji zaczyna się od słówka kluczowego `def`, następnie określamy nazwę funkcji, za którą musi znajdować się znak `()` oraz `:`. Całość kodu będącego wykonywanego w ramach funkcji musi być wcięta względem frazy `def`."
      ]
    },
    {
      "cell_type": "code",
      "execution_count": null,
      "metadata": {
        "colab": {
          "base_uri": "https://localhost:8080/"
        },
        "id": "bzy-6csmvZ5R",
        "outputId": "6a90b40b-4ae9-4220-b85c-fb9f1497d3fa"
      },
      "outputs": [
        {
          "name": "stdout",
          "output_type": "stream",
          "text": [
            "Witaj użytkowniku\n"
          ]
        }
      ],
      "source": [
        "#Definicja funkcji\n",
        "def witaj():\n",
        "  powitanie = \"Witaj użytkowniku\"\n",
        "  print(powitanie)\n",
        "  \n",
        "\n",
        "#wywołanie funkcji  \n",
        "witaj()"
      ]
    },
    {
      "cell_type": "markdown",
      "metadata": {
        "id": "gHnj_bCpjeGb"
      },
      "source": [
        "Stwórzmy funkcję która wita użytkownika, po tym jak poda on swoje imię."
      ]
    },
    {
      "cell_type": "code",
      "execution_count": null,
      "metadata": {
        "id": "VgiYzBmQjnrn"
      },
      "outputs": [],
      "source": [
        "def podaj_imie():\n",
        "    imie = input(\"Proszę podaj swoje imię: \")\n",
        "    print(\"Witaj \", imie, \"!\")\n",
        "    \n",
        "podaj_imie()"
      ]
    },
    {
      "cell_type": "markdown",
      "metadata": {
        "id": "tA3HocVEGxgb"
      },
      "source": [
        "### 7.2 Argumenty funkcji\n",
        "Instrukcje wykonywane przez funkcje można sparametryzować, tzn sprawić aby nie wykonywały się za każdym razem w ten sam ściśle określony sposób. Do funkcji możliwe jest przekazywanie argumentów (parametrów), po to aby kod w niej zawarty był bardziej uniwersalny. Argumenty funkcji, to zmienne znajdujące się w nawiasach okrągłych `()`, przesyłane są podczas wywoływania funkcji."
      ]
    },
    {
      "cell_type": "code",
      "execution_count": 3,
      "metadata": {
        "colab": {
          "base_uri": "https://localhost:8080/"
        },
        "id": "-k5bVUyBGxgc",
        "outputId": "29bc5554-1467-4ab9-8e4c-887e3b7b4784"
      },
      "outputs": [
        {
          "name": "stdout",
          "output_type": "stream",
          "text": [
            "Suma 3 i 4 wynosi 7\n"
          ]
        }
      ],
      "source": [
        "def suma(a, b):\n",
        "    print(f\"Suma {a} i {b} wynosi {a+b}\")\n",
        "\n",
        "suma(3,4)"
      ]
    },
    {
      "cell_type": "markdown",
      "metadata": {},
      "source": [
        "### 7.3. Sposoby odwoływania się do argumentów funkcji\n",
        "Wywołują funkcję z argumentami, możemy odwołać się do nich na dwa sposoby:\n",
        "- jako do argumentów pozycyjnych\n",
        "- jako do argumentów poprzez ich rzeczywistą nazwę"
      ]
    },
    {
      "cell_type": "code",
      "execution_count": 9,
      "metadata": {},
      "outputs": [
        {
          "name": "stdout",
          "output_type": "stream",
          "text": [
            "Wynik dzielenia 10 przez 2 to 5.000  \n",
            "Nie można dzielić przez zero!\n",
            "Wynik dzielenia 23.0 przez 1.5 to 15.333 \n",
            "Wynik dzielenia 30 przez 9 to 3.333  \n"
          ]
        }
      ],
      "source": [
        "def dzielenie(dzielna, dzielnik):\n",
        "    if dzielnik == 0:\n",
        "        print(\"Nie można dzielić przez zero!\")  \n",
        "    else:\n",
        "        print(f\"Wynik dzielenia {dzielna} przez {dzielnik} to {dzielna/dzielnik:<7.3f}\")\n",
        "\n",
        "dzielenie(10, 2)\n",
        "dzielenie(10, 0)    \n",
        "dzielenie(dzielnik = 1.5, dzielna = 23.0)\n",
        "\n",
        "# dzielenie(dzielnik = 9, 30)  # Błąd\n",
        "dzielenie(30, dzielnik = 9)  # Poprawne"
      ]
    },
    {
      "cell_type": "markdown",
      "metadata": {
        "id": "ZCSrPvt5Gxgd"
      },
      "source": [
        "### 7.3 Przekazywanie argumentów do funkcji\n",
        "Argumenty do funkcji mogą być przekazywane na dwa sposoby: przez wartość - funkcja pracuje na kopiach i nie modyfikuje oryginalnie przesłanych argumentów oraz przez zmienną (referencję) - funkcja pracuje na oryginalnych argumentach!\n",
        "To w jaki sposób przesłane będą argumenty zależy od ich typu. Co do zasady: zmienne typów podstawowych (liczba, tekst, lista) przesyłane są przez wartość (funkcja pracuje na kopiach), zmienne zaawansowane, tworzone przez programistę (tzw. obiekty klas) przesyłane są przez referencję (funkcja pracuje na oryginałach).\n",
        "W poniższym przykładzie wykorzystywana jest funkcja `id()`, która zwraca identyfikator zmiennej (umożliwia sprawdzenie czy dwie zmienne to ten sam obszar pamięci, czy zupełnie inne, odrębne komórki)\n",
        "\n",
        "Funkcja id() zwraca unikalny identyfikator dla określonego obiektu.\n",
        "\n",
        "Wszystkie obiekty w Pythonie mają swój własny unikalny identyfikator.\n",
        "\n",
        "Identyfikator jest przypisywany do obiektu podczas jego tworzenia.\n",
        "\n",
        "Identyfikator jest adresem pamięci obiektu i będzie się różnić za każdym razem, gdy uruchomisz program (z wyjątkiem niektórych obiektów, które mają stały unikalny identyfikator, np. liczb całkowitych od -5 do 256)."
      ]
    },
    {
      "cell_type": "code",
      "execution_count": 16,
      "metadata": {
        "colab": {
          "base_uri": "https://localhost:8080/"
        },
        "id": "JBw83DQtGxgf",
        "outputId": "68335638-40b4-41b7-b681-1110c4c8e453"
      },
      "outputs": [
        {
          "name": "stdout",
          "output_type": "stream",
          "text": [
            "Id x:  140729837818600\n",
            "Wartość x przed wywołaniem funkcji:  123\n",
            "Id argumentu przed jakimikolwiek zmianami:  140729837818600\n",
            "Wartość argumentu przed inkrementacją wewnątrz funkcji:  123\n",
            "Id argumentu po jego inkrementacji:  140729837818632\n",
            "Wartość argumentu po inkrementacji wewnątrz funkcji:  124\n",
            "Wartość x po wywołaniu funkcji:  123\n"
          ]
        }
      ],
      "source": [
        "def funkcja_1(argument):\n",
        "    print(\"Id argumentu przed jakimikolwiek zmianami: \", id(argument))\n",
        "    print(\"Wartość argumentu przed inkrementacją wewnątrz funkcji: \", argument)\n",
        "    argument += 1 \n",
        "    print(\"Id argumentu po jego inkrementacji: \", id(argument))\n",
        "    print(\"Wartość argumentu po inkrementacji wewnątrz funkcji: \", argument)\n",
        "\n",
        "x = 123\n",
        "print(\"Id x: \", id(x))\n",
        "print(\"Wartość x przed wywołaniem funkcji: \", x)\n",
        "funkcja_1(x)\n",
        "print(\"Wartość x po wywołaniu funkcji: \", x)"
      ]
    },
    {
      "cell_type": "markdown",
      "metadata": {
        "id": "uuuQblm2Gxgg"
      },
      "source": [
        "W powyższym przykładzie widać (co można potwierdzić za pomocą funkcji `id`), że do funkcji zawsze przesyłany jest oryginalny argument, ale gdy tylko chcemy go zmodyfikować, wykonywana jest lokalna kopia (wewnątrz funkcji) i oryginalna zmienna nie zostanie zmodyfikowana! W związku z tym, funkcja \"pracuje\" na kopii, czyli mamy do czynienia z przekazywaniem przez wratość (mimo, że przed modyfikacją przesłany został oryginał).\n",
        "\n",
        "Poniżej znajduje się podobny przykład funkcji, która pracuje na oryginalnej zmiennej. Do tego celu potrzebny będzie obiekt klasy stworzonej przez programistę."
      ]
    },
    {
      "cell_type": "code",
      "execution_count": 17,
      "metadata": {
        "id": "ic5dsjkiGxgg"
      },
      "outputs": [
        {
          "name": "stdout",
          "output_type": "stream",
          "text": [
            "Id A:  2354431546368\n",
            "Wartość A.x przed wywołaniem funkcji:  123\n",
            "Id argumentu przed jakimikolwiek zmianami:  2354431546368\n",
            "Wartość argumentu przed inkrementacją wewnątrz funkcji:  123\n",
            "Id argumentu po jego inkrementacji:  2354431546368\n",
            "Wartość argumentu po inkrementacji wewnątrz funkcji:  124\n",
            "Wartość A.x po wywołaniu funkcji:  124\n"
          ]
        }
      ],
      "source": [
        "#definicja klasy opisującej punkt na płaszczyźnie - coś bardziej zaawansowanego niż \"zwykła\" liczba\n",
        "class punkt:\n",
        "    def __init__(self):\n",
        "        #konstruktor klasy punkt, który inicjalizuje składniki x i y\n",
        "        self.x = 0\n",
        "        self.y = 0\n",
        "    \n",
        "\n",
        "def funkcja_2(argument):\n",
        "    \n",
        "    print(\"Id argumentu przed jakimikolwiek zmianami: \",id(argument))\n",
        "    print(\"Wartość argumentu przed inkrementacją wewnątrz funkcji: \",argument.x)\n",
        "    argument.x +=1  #inkrementacja składnika x (cechy x) \n",
        "    print(\"Id argumentu po jego inkrementacji: \",id(argument))\n",
        "    print(\"Wartość argumentu po inkrementacji wewnątrz funkcji: \",argument.x)\n",
        "\n",
        "A = punkt() #utworzenie nowego punktu (obiektu klasy punkt)\n",
        "A.x = 123\n",
        "A.y = 321\n",
        "\n",
        "print(\"Id A: \",id(A))\n",
        "print(\"Wartość A.x przed wywołaniem funkcji: \",A.x)\n",
        "funkcja_2(A)\n",
        "print(\"Wartość A.x po wywołaniu funkcji: \",A.x)\n"
      ]
    },
    {
      "cell_type": "markdown",
      "metadata": {
        "id": "Otr2n5UrGxgh"
      },
      "source": [
        "Tym razem, `funkcja_2` zmodyfikowała oyginalny argument, zmienną przesłaną do funkcji. Dzieje się tak dlatego, że tym razem argument przekazany został przez referencję (odwołanie) do oryginalnej zmiennej `A`. Praktyczne wykorzystanie sposobu przekazywania argumentów zależy od naszej pomysłowości. Ważne jest aby mieć świadomość, że argumenty mogą być przekazywane w różny sposób!"
      ]
    },
    {
      "cell_type": "markdown",
      "metadata": {
        "id": "u_ZZjeW1Gxgi"
      },
      "source": [
        "### 7.5 Argumenty domyślne (domniemane)\n",
        "Kolejny przykład przedstawia funkcję, która przyjmuje argumenty opcjonalnie tzn. jeżeli ich nie podamy, to funkcja użyje wartości \"domyślnych\"."
      ]
    },
    {
      "cell_type": "code",
      "execution_count": 2,
      "metadata": {
        "id": "3utypnqdGxgj"
      },
      "outputs": [
        {
          "name": "stdout",
          "output_type": "stream",
          "text": [
            "0, 1, 2, 3, 4, 5, 6, 7, 8, 9, \n",
            "5, 6, 7, 8, 9, \n",
            "3, 4, \n",
            "0, 1, 2, 3, 4, 5, 6, 7, 8, 9, 10, 11, \n",
            "-10, -9, -8, -7, -6, -5, -4, -3, -2, -1, 0, 1, 2, 3, 4, 5, 6, 7, 8, 9, "
          ]
        }
      ],
      "source": [
        "def Wypisz(start = 0,stop = 10):\n",
        "    for i in range(start, stop):\n",
        "        print(i,end=\", \")\n",
        "        \n",
        "#różne wywołania funkcji wypisz (z uwagi na wartości domyślne argumentów)\n",
        "Wypisz() #wywołanie funkcji bez argumentów (obydwa domyślne)\n",
        "print()\n",
        "Wypisz(5) #Wywołanie funkcji z jednym (pierwszym) argumentem. Drugi będzie miał wartość domyślną\n",
        "print()\n",
        "Wypisz(3,5)\n",
        "print()\n",
        "Wypisz(stop=12)\n",
        "print()\n",
        "Wypisz(stop = 10, start = -10)"
      ]
    },
    {
      "cell_type": "markdown",
      "metadata": {
        "id": "odM0BiENJQPh"
      },
      "source": [
        "### 7.6. Funkcja o zmiennej liście argumentów\n",
        "Python umożliwia równie definiowanie funkcji, która przyjmuje dowolną (nieokreśloną) listę argumentów.\n",
        "\n",
        "Przyglądnij się poniższemu przykładowi, pomyśl o zastosowaniu takich funkcji."
      ]
    },
    {
      "cell_type": "code",
      "execution_count": null,
      "metadata": {
        "colab": {
          "base_uri": "https://localhost:8080/"
        },
        "id": "O4S2RAeHJtCY",
        "outputId": "af1be605-b1de-47a5-9da0-124297e3fa32"
      },
      "outputs": [
        {
          "name": "stdout",
          "output_type": "stream",
          "text": [
            "Przykład wywołania funkcji z 3 argumentami:\n",
            "1, 2, 3, \n",
            "Przykład wywołania funkcji z 5 argumentami:\n",
            "1, 2, 3, 4, pięć, \n"
          ]
        }
      ],
      "source": [
        "def varArg(*argv):\n",
        "  print(f\"Przykład wywołania funkcji z {len(argv)} argumentami:\")\n",
        "  for arg in argv:\n",
        "    print(arg, end=\", \")\n",
        "  print()\n",
        "\n",
        "varArg(1,2,3)\n",
        "\n",
        "varArg(1,2,3,4,\"pięć\")\n"
      ]
    },
    {
      "cell_type": "markdown",
      "metadata": {
        "id": "P4tl0ZhyHRxT"
      },
      "source": [
        "### 7.7. Zwracanie wartości przez funkcję\n",
        "Jak już wiesz, funkcja może działać na kopiach (w przypadku typów wbudowanych) oraz na oryginałach (typy tworzone przez programistę). A co gdy chcielibyśmy, aby funkcja modyfikowała argument? Albo chociaż mogła przekazać informację o zmianach, jakie zostały dokonane na argumentach podanych podczas wywołania funkcji?\n",
        "Funkcje oprócz przyjmowania argumentów, mogą również zwracać wartości!\n",
        "Poniższy przykład przedstawia tę funkcjonalność:"
      ]
    },
    {
      "cell_type": "code",
      "execution_count": null,
      "metadata": {
        "id": "eiFMgu2jHRxU"
      },
      "outputs": [],
      "source": [
        "def inkrementacja_1(arg):\n",
        "    arg+=1\n",
        "\n",
        "def inkrementacja_2(arg):\n",
        "    arg+=1\n",
        "    return arg\n",
        "\n",
        "zmienna = 10\n",
        "inkrementacja_1(zmienna)\n",
        "print(\"Po inkrementacja_1:\",zmienna) #zmienna nie została zmieniona przez funkcję inkrementacja_1\n",
        "\n",
        "# zmienna = inkrementacja_1(zmienna) #błąd! funkcja inkrementacja nic nie zwraca liczby, więc nie można przypisać wyniku jej działania do zmiennej!\n",
        "# funkcja inkrementacja_1 zwróci do zmiennej coś zupełnie innego niż liczbę!\n",
        "#print(\"Po nadpisaniu wartości zmiennej tym, co zwraca inkrementacja_1:\",zmienna) #zmienna została nadpisana przez wartość, którą zwróciła funkcja inkrementacja_2\n",
        "\n",
        "inkrementacja_2(zmienna)\n",
        "print(\"Po inkrementacja_2:\",zmienna) #zmienna nie została zmieniona przez funkcję inkrementacja_2 (tak jak powyżej)\n",
        "\n",
        "zmienna = inkrementacja_2(zmienna)\n",
        "print(\"Po nadpisaniu wartości zmiennej tym, co zwraca inkrementacja_2:\",zmienna) #zmienna została nadpisana przez wartość, którą zwróciła funkcja inkrementacja_2\n"
      ]
    },
    {
      "cell_type": "markdown",
      "metadata": {
        "id": "ugzuWWIXGxgk"
      },
      "source": [
        "Ponieważ w języku Python, możliwe jest \"wieloprzypisanie\" - ang. multiple assignment (przypisanie wielu wartości, do wielu zmiennych jednocześnie, w jednej linijce kodu), możliwe jest zwrócenie przez funkcji kilku wartości jednocześnie!"
      ]
    },
    {
      "cell_type": "code",
      "execution_count": null,
      "metadata": {
        "id": "VPdRF5DzGxgk"
      },
      "outputs": [],
      "source": [
        "#przykład \"wielo-przypisania\"\n",
        "a, b, c = 3, 10, \"tekst\"\n",
        "print(a,b,c)\n",
        "\n",
        "#funkcja zwracająca jednocześnie dwie wartości (całkowity wynik dzielenia i resztę)\n",
        "def Dzielenie(dzielna,dzielnik):\n",
        "    r1 = dzielna // dzielnik\n",
        "    r2 = dzielna % dzielnik\n",
        "    return r1, r2\n",
        "\n",
        "x, y = 14, 5\n",
        "w,r = Dzielenie(x,y)\n",
        "\n",
        "print(f\"Wynik dzielenia {x} przez {y} wynosi: {w}, reszta: {r}\")"
      ]
    }
  ],
  "metadata": {
    "colab": {
      "collapsed_sections": [],
      "name": "Python - lekcja 3.ipynb",
      "provenance": []
    },
    "kernelspec": {
      "display_name": "Python 3",
      "language": "python",
      "name": "python3"
    },
    "language_info": {
      "codemirror_mode": {
        "name": "ipython",
        "version": 3
      },
      "file_extension": ".py",
      "mimetype": "text/x-python",
      "name": "python",
      "nbconvert_exporter": "python",
      "pygments_lexer": "ipython3",
      "version": "3.13.2"
    }
  },
  "nbformat": 4,
  "nbformat_minor": 0
}
