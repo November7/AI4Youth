{
 "cells": [
  {
   "cell_type": "markdown",
   "id": "1905e220",
   "metadata": {},
   "source": [
    "# **Podstawy programowania w języku Python - część 4**"
   ]
  },
  {
   "cell_type": "markdown",
   "id": "47d7367d",
   "metadata": {},
   "source": [
    "## 8. Typy zaawansowane\n",
    "\n",
    "W Pythonie oprócz prostych typów jak liczby czy napisy, mamy również zaawansowane struktury danych, które pozwalają na bardziej złożone operacje i organizację informacji. Oto niektóre z nich:\n",
    "- Lista (list)\n",
    "- Krotka (tuple)\n",
    "- Zbiór (set) \n",
    "- Słownik (dict)\n",
    "- Klasa (class)"
   ]
  },
  {
   "cell_type": "markdown",
   "id": "31e0dfb0",
   "metadata": {},
   "source": [
    "### 8.1 List (lista)\n",
    "\n",
    "\n",
    "Pozycje listy są uporządkowane (elementy listy mają określoną kolejność i ta kolejność się nie zmieni. Jeśli dodamy nowy element do listy zostanie on umieszczony na końcu listy). Listę można zmieniać i zezwalają one na zduplikowane wartości.\n",
    "\n",
    "Pozycje listy są indeksowane, pierwsza pozycja ma indeks [0], druga pozycja ma indeks [1] itd.\n",
    "\n",
    "Przykład: `lista = [1, \"Hello\", 3.4]`"
   ]
  },
  {
   "cell_type": "code",
   "execution_count": 15,
   "id": "bbdcd7a5",
   "metadata": {},
   "outputs": [
    {
     "name": "stdout",
     "output_type": "stream",
     "text": [
      "Hello, World!!!!\n"
     ]
    }
   ],
   "source": [
    "text = str(\"Hello, World!\")\n",
    "# for el in text:\n",
    "#     print(el, end=' ')\n",
    "\n",
    "# print()\n",
    "\n",
    "# for i in range(len(text)):\n",
    "#     print(text[i], end=' ')\n",
    "\n",
    "text = text + \"!!!\"\n",
    "\n",
    "print(text)\n",
    "\n"
   ]
  },
  {
   "cell_type": "code",
   "execution_count": 11,
   "id": "4e918584",
   "metadata": {},
   "outputs": [
    {
     "name": "stdout",
     "output_type": "stream",
     "text": [
      "Liczba elementów w liście: 4\n",
      "Element nr 0 to: 1\n",
      "Element nr 1 to: Hello\n",
      "Element nr 2 to: 3.4\n",
      "Element nr 3 to: [1, 2, 3, 4]\n",
      "Element: 1\n",
      "Element: Hello\n",
      "Element: 3.4\n",
      "Element: [1, 2, 3, 4]\n",
      "Element nr 0 to: 1\n",
      "Element nr 1 to: Hello\n",
      "Element nr 2 to: 3.4\n",
      "Element nr 3 to: [1, 2, 3, 4]\n",
      "Lista po dodaniu nowego elementu: [1, 'Hello', 3.4, [1, 2, 3, 4], 'Nowy element']\n"
     ]
    }
   ],
   "source": [
    "lista = [1, \"Hello\", 3.4, [1,2,3,4]]\n",
    "\n",
    "ilosc = len(lista)\n",
    "print(\"Liczba elementów w liście:\", ilosc)\n",
    "\n",
    "for i in range(ilosc):\n",
    "    print(\"Element nr\", i, \"to:\", lista[i])\n",
    "\n",
    "for element in lista:\n",
    "    print(\"Element:\", element)\n",
    "\n",
    "for i, element in enumerate(lista):\n",
    "    print(f\"Element nr {i} to: {element}\")\n",
    "\n",
    "lista.append(\"Nowy element\")\n",
    "print(\"Lista po dodaniu nowego elementu:\", lista)\n"
   ]
  },
  {
   "cell_type": "code",
   "execution_count": 13,
   "id": "8fa69357",
   "metadata": {},
   "outputs": [
    {
     "name": "stdout",
     "output_type": "stream",
     "text": [
      "6\n",
      "[5, 5.5, 6]\n",
      "[6, 4.5]\n",
      "[5, 5.5, 6, 4.5, 3.5, 4, 4.5, 3.5, 5.5]\n",
      "9\n",
      "el: 5.5\n",
      "[5, 6, 4.5, 3.5, 4, 4.5, 3.5, 5.5]\n",
      "[3.5, 3.5, 4, 4.5, 4.5, 5, 5.5, 6]\n",
      "[6, 5.5, 5, 4.5, 4.5, 4, 3.5, 3.5]\n",
      "[123, 3.5, 4, 4.5, 4.5, 5, 5.5, 6]\n"
     ]
    }
   ],
   "source": [
    "jezyk_angielski = [5, 5.5, 6, 4.5, 3.5, 4]\n",
    "\n",
    "# wyświetla 3 ocene z listy\n",
    "print(jezyk_angielski[2])\n",
    "\n",
    "# wyświetla pierwsze 3 oceny z list\n",
    "print(jezyk_angielski[0:3])   # <początek, koniec)\n",
    "\n",
    "# wyświetla 3 i 4 ocenę z listy\n",
    "print(jezyk_angielski[2:4])\n",
    "\n",
    "# dodaje nową ocenę (4.5) na koniec listy\n",
    "jezyk_angielski.append(4.5)\n",
    "jezyk_angielski.append(3.5)\n",
    "jezyk_angielski.append(5.5)\n",
    "print(jezyk_angielski)\n",
    "\n",
    "# wyświetla liczbę elementów w liście (ocen)\n",
    "print(len(jezyk_angielski))\n",
    "\n",
    "# usuwa drugą ocenę z listy\n",
    "el = jezyk_angielski.pop(1)\n",
    "print(\"el:\",el)\n",
    "print(jezyk_angielski)\n",
    "\n",
    "# sortuje oceny od najniższej do najwyższej\n",
    "jezyk_angielski.sort()\n",
    "print(jezyk_angielski)\n",
    "\n",
    "print(jezyk_angielski[::-1])  \n",
    "jezyk_angielski[0] = 123\n",
    "print(jezyk_angielski)"
   ]
  },
  {
   "cell_type": "markdown",
   "id": "1f62e5d6",
   "metadata": {},
   "source": [
    "### 8.2 Tuple (krotka)\n",
    "\n",
    "Krotka w Pythonie jest podobna do listy. Różnica między nimi polega na tym, że nie możemy zmienić elementów krotki po jej przypisaniu, podczas gdy możemy zmienić elementy listy.\n",
    "\n",
    "\n",
    "Przykład: `krotka = (\"autobus\", 102, 33.3)`"
   ]
  },
  {
   "cell_type": "code",
   "execution_count": 19,
   "id": "25da9844",
   "metadata": {},
   "outputs": [
    {
     "name": "stdout",
     "output_type": "stream",
     "text": [
      "('autobus', 102, 33.3)\n",
      "0 -> autobus\n",
      "1 -> 102\n",
      "2 -> 33.3\n"
     ]
    }
   ],
   "source": [
    "krotka = (\"autobus\", 102, 33.3)\n",
    "\n",
    "print(krotka)\n",
    "\n",
    "for i, element in enumerate(krotka):\n",
    "    print(f\"{i} -> {element}\")\n",
    "\n",
    "\n",
    "# krotka[0] = \"tramwaj\"  # To spowoduje błąd, ponieważ krotki są niemodyfikowalne"
   ]
  },
  {
   "cell_type": "markdown",
   "id": "151cc491",
   "metadata": {},
   "source": [
    "### 8.3. Set (zestaw)\n",
    "\n",
    "Zestaw to nieuporządkowany zbiór przedmiotów. Każdy element zestawu jest unikalny (bez duplikatów) i musi być niezmienny (nie można go zmienić).\n",
    "\n",
    "Jednak sam zestaw jest zmienny. Możemy dodawać lub usuwać z niego elementy.\n",
    "\n",
    "Zbiory mogą być również używane do wykonywania matematycznych operacji na zbiorach, takich jak suma, przecięcie, różnica symetryczna itp.\n",
    "\n",
    "\n",
    "Przykład: `zestaw = {\"abc\", 34, True, 40, \"male\"}`\n"
   ]
  },
  {
   "cell_type": "code",
   "execution_count": 16,
   "id": "77edc6fb",
   "metadata": {},
   "outputs": [
    {
     "name": "stdout",
     "output_type": "stream",
     "text": [
      "{True, 34, 40, 'abc', 'male'}\n",
      "{True, 34, 40, 41, 'abc', 'male'}\n",
      "{True, 34, 'nowy element', 40, 41, 'abc', 'male'}\n"
     ]
    }
   ],
   "source": [
    "zestaw = {\"abc\", 34, True, 40, \"male\"}\n",
    "\n",
    "print(zestaw)\n",
    "\n",
    "zestaw = {\"abc\", 34, True, 40, \"male\", \"abc\", 34, 41}\n",
    "\n",
    "print(zestaw)  # zestaw nie może zawierać duplikatów, więc \"abc\" i 34 pojawią się tylko raz\n",
    "\n",
    "zestaw.add(\"nowy element\")\n",
    "print(zestaw)"
   ]
  },
  {
   "cell_type": "markdown",
   "id": "42e3db1b",
   "metadata": {},
   "source": [
    "### 8.4. Dictionary (słownik)\n",
    "\n",
    "Słownik Pythona to nieuporządkowana kolekcja elementów. Każdy element słownika ma parę klucz/wartość.\n",
    "\n",
    "Słowniki są zoptymalizowane pod kątem pobierania wartości, gdy klucz jest znany.\n",
    "\n",
    "Przykład: \n",
    "\n",
    "`slownik = {\n",
    "  \"brand\": \"Ford\",\n",
    "  \"electric\": False,\n",
    "  \"year\": 1964,\n",
    "  \"colors\": [\"red\", \"white\", \"blue\"]\n",
    "}`\n"
   ]
  },
  {
   "cell_type": "code",
   "execution_count": 18,
   "id": "9e4a26f0",
   "metadata": {},
   "outputs": [
    {
     "name": "stdout",
     "output_type": "stream",
     "text": [
      "{'brand': 'Ford', 'electric': False, 'year': 1964, 'colors': ['red', 'white', 'blue'], 0: 'zero'}\n",
      "brand -> Ford\n",
      "electric -> False\n",
      "year -> 1964\n",
      "colors -> ['red', 'white', 'blue']\n",
      "0 -> zero\n",
      "{'brand': 'Ford', 'electric': False, 'year': 2020, 'colors': ['red', 'white', 'blue'], 0: 'zero'}\n",
      "{'brand': 'Ford', 'electric': False, 'year': 2020, 'colors': ['red', 'white', 'blue'], 0: 'zero', 'model': 'Mustang'}\n"
     ]
    }
   ],
   "source": [
    "slownik = { \"brand\": \"Ford\", \"electric\": False, \"year\": 1964, \"colors\": [\"red\", \"white\", \"blue\"], 0: \"zero\" }\n",
    "\n",
    "print(slownik)\n",
    "\n",
    "for k, el in slownik.items():\n",
    "  print(f\"{k} -> {el}\")\n",
    "\n",
    "\n",
    "slownik[\"year\"] = 2020  # aktualizacja wartości\n",
    "print(slownik)\n",
    "\n",
    "slownik[\"model\"] = \"Mustang\"  # dodanie nowego klucza i wartości\n",
    "print(slownik)\n",
    "\n"
   ]
  },
  {
   "cell_type": "markdown",
   "id": "7eaefe38",
   "metadata": {},
   "source": [
    "### 8.5 Ekstrakcja elementów listy (i innych typów agregacyjnych)\n",
    "\n",
    "Lista, krotka, zestaw to typy służące agregacji (złączenia, spakowania) danych w jednej zmiennej. Mimo podstawowych różnic, mają wiele wspólnych cech. Jedną z nich jest możliwość ektrakcji (czyli wyciągnięcia) danych bezpośrednio do pojedynczych zmiennych, bez użycia np. pętli.\n",
    "Przyjrzyj się poniższemu przykładowi:"
   ]
  },
  {
   "cell_type": "code",
   "execution_count": null,
   "id": "035f54e5",
   "metadata": {},
   "outputs": [
    {
     "name": "stdout",
     "output_type": "stream",
     "text": [
      "1\n",
      "2\n",
      "[3, 4, 5, 6, 7]\n"
     ]
    }
   ],
   "source": [
    "lista = [1,2,3,4,5,6,7]\n",
    "\n",
    "\n",
    "\n",
    "#a,b,c = lista # błąd\n",
    "\n",
    "a, b, *reszta = lista\n",
    "\n",
    "print(a,b,reszta,sep=\"\\n\")"
   ]
  },
  {
   "cell_type": "code",
   "execution_count": 26,
   "id": "e3c7d801",
   "metadata": {},
   "outputs": [
    {
     "name": "stdout",
     "output_type": "stream",
     "text": [
      "1\n",
      "2\n",
      "6\n",
      "7\n",
      "[3, 4, 5]\n",
      "1 7\n"
     ]
    }
   ],
   "source": [
    "lista = [1,2,3,4,5,6,7] #działa dla wszystkich typów agregacyjnych: (), [], {}\n",
    "\n",
    "a, b, *reszta, c, d = lista\n",
    "\n",
    "print(a, b, c, d, reszta, sep=\"\\n\")\n",
    "\n",
    "pierwszy, *tmp, ostatni = lista\n",
    "\n",
    "print(pierwszy, ostatni)"
   ]
  },
  {
   "cell_type": "markdown",
   "id": "c8a31870",
   "metadata": {},
   "source": [
    "## 9. Biblioteki"
   ]
  },
  {
   "cell_type": "markdown",
   "id": "48fdf58a",
   "metadata": {},
   "source": [
    "### 9.1. Wstęp\n",
    "Python to język, którego siła tkwi w bogatym ekosystemie bibliotek — gotowych zbiorów funkcji i narzędzi, które pozwalają tworzyć złożone programy bez potrzeby pisania wszystkiego od zera.\n",
    "Dzięki bibliotekom możliwe jest:\n",
    "- tworzyć wykresy i wizualizacje danych (matplotlib, seaborn)\n",
    "- analizować dane (pandas, numpy)\n",
    "- pracować z AI i uczeniem maszynowym (scikit-learn, tensorflow, torch)\n",
    "- tworzyć aplikacje internetowe (flask, django)\n",
    "- obsługiwać pliki, dokumenty, obrazy i wiele więcej\n",
    "Importując bibliotekę za pomocą słowa kluczowego import, zyskujesz dostęp do jej funkcji.\n",
    "\n"
   ]
  },
  {
   "cell_type": "code",
   "execution_count": 27,
   "id": "09cbcbf4",
   "metadata": {},
   "outputs": [
    {
     "name": "stdout",
     "output_type": "stream",
     "text": [
      "3.141592653589793\n",
      "2.718281828459045\n",
      "4.0\n",
      "8.0\n"
     ]
    }
   ],
   "source": [
    "import math\n",
    "\n",
    "print(math.pi)  # wyświetla wartość liczby pi\n",
    "print(math.e)   # wyświetla wartość liczby e\n",
    "\n",
    "print(math.sqrt(16))  # wyświetla pierwiastek kwadratowy z 16\n",
    "print(math.pow(2, 3))  # wyświetla 2 do potęgi 3"
   ]
  },
  {
   "cell_type": "markdown",
   "id": "3332a694",
   "metadata": {},
   "source": [
    "### 9.2. Aliasy nazw\n",
    "\n",
    "Czasm, dla wygody, można dodawać swoje nazwy dla zaimportowanych bibliotek"
   ]
  },
  {
   "cell_type": "code",
   "execution_count": null,
   "id": "364aacd8",
   "metadata": {},
   "outputs": [
    {
     "name": "stdout",
     "output_type": "stream",
     "text": [
      "3.141592653589793\n",
      "1.0\n"
     ]
    }
   ],
   "source": [
    "import math as mt\n",
    "\n",
    "\n",
    "print(mt.pi)  # wyświetla wartość liczby pi\n",
    "\n",
    "print(mt.sin(mt.pi / 2))  # wyświetla sinus liczby pi/2"
   ]
  },
  {
   "cell_type": "markdown",
   "id": "d2633337",
   "metadata": {},
   "source": [
    "### 9.3. Importowanie części biblioteki\n",
    "\n",
    "Możliwe jest również importowanie tylko wybranych fragmentów biblioteki, np. w celu ograniczenia ilości zaimportowanych elementów lub uproszczenia odnoszenia się do zaimportowanych elementów:"
   ]
  },
  {
   "cell_type": "code",
   "execution_count": 29,
   "id": "dd8dbddd",
   "metadata": {},
   "outputs": [
    {
     "name": "stdout",
     "output_type": "stream",
     "text": [
      "3.141592653589793\n",
      "5.0\n",
      "3.141592653589793\n",
      "6.0\n",
      "3.141592653589793\n",
      "7.0\n"
     ]
    }
   ],
   "source": [
    "from math import pi, sqrt\n",
    "\n",
    "print(pi)   \n",
    "print(sqrt(25))  # wyświetla pierwiastek kwadratowy z 25\n",
    "\n",
    "from math import pi as p, sqrt as s \n",
    "print(p)\n",
    "print(s(36))  # wyświetla pierwiastek kwadratowy z 36\n",
    "\n",
    "from math import *  # importuje wszystkie funkcje i stałe z modułu math\n",
    "print(pi)\n",
    "print(sqrt(49))  # wyświetla pierwiastek kwadratowy z 49"
   ]
  }
 ],
 "metadata": {
  "kernelspec": {
   "display_name": "Python 3",
   "language": "python",
   "name": "python3"
  },
  "language_info": {
   "codemirror_mode": {
    "name": "ipython",
    "version": 3
   },
   "file_extension": ".py",
   "mimetype": "text/x-python",
   "name": "python",
   "nbconvert_exporter": "python",
   "pygments_lexer": "ipython3",
   "version": "3.13.2"
  }
 },
 "nbformat": 4,
 "nbformat_minor": 5
}
