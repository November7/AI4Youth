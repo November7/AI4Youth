{
  "cells": [
    {
      "cell_type": "markdown",
      "metadata": {
        "id": "9J-AyKk9W40L"
      },
      "source": [
        "##8\\. Biblioteka Pandas\n",
        "\n",
        "###Wstęp\n",
        "\n",
        "Pandas to zewnętrzna biblioteka używana do analizy, przetwarzania i obrazowania dużych zbiorów danych np. zaimportowanych z zewnętrznych źródeł. \n",
        "\n",
        "Abo skorzystać z możliwości tej biblioteki należy ją zaimportować do swojego programu:"
      ]
    },
    {
      "cell_type": "code",
      "execution_count": null,
      "metadata": {
        "colab": {
          "base_uri": "https://localhost:8080/"
        },
        "id": "ET6FiOj7TZpB",
        "outputId": "74fc3fce-9649-46d2-8703-7ba75b038790"
      },
      "outputs": [
        {
          "name": "stdout",
          "output_type": "stream",
          "text": [
            "1.3.5\n"
          ]
        }
      ],
      "source": [
        "import pandas\n",
        "\n",
        "print(pandas.__version__)"
      ]
    },
    {
      "cell_type": "markdown",
      "metadata": {
        "id": "IOOLwmG0YniJ"
      },
      "source": [
        "Podczas improtowania bibliotek można skorzystać z tworzenia aliasów (innych nazw) - cel: wygoda, tylko i wyłącznie :)"
      ]
    },
    {
      "cell_type": "code",
      "execution_count": null,
      "metadata": {
        "colab": {
          "base_uri": "https://localhost:8080/"
        },
        "id": "b6BnPPUpYycE",
        "outputId": "4770b41d-876a-4464-a4ab-9dbe04893fcd"
      },
      "outputs": [
        {
          "name": "stdout",
          "output_type": "stream",
          "text": [
            "1.3.5\n"
          ]
        }
      ],
      "source": [
        "import pandas as pd\n",
        "# od teraz można używać nazwy pd zamiast pandas...\n",
        "\n",
        "print(pd.__version__)"
      ]
    },
    {
      "cell_type": "markdown",
      "metadata": {
        "id": "IQy05OZ2oD5e"
      },
      "source": [
        "###Serie\n",
        "Serier są tablicami jednowymiarowymi (kolumna), które można utworzyć z innych typów uporządkowanych pythona (listy i krotki)"
      ]
    },
    {
      "cell_type": "code",
      "execution_count": null,
      "metadata": {
        "colab": {
          "base_uri": "https://localhost:8080/"
        },
        "id": "Rnh-V7C2oCpg",
        "outputId": "2e8b82ef-66c7-4b22-bba4-b884ca7afee8"
      },
      "outputs": [
        {
          "name": "stdout",
          "output_type": "stream",
          "text": [
            "0         jeden\n",
            "1             2\n",
            "2           3.5\n",
            "3          True\n",
            "4    2022-03-19\n",
            "dtype: object\n"
          ]
        }
      ],
      "source": [
        "import pandas as pd\n",
        "\n",
        "lista = [\"jeden\",2,3.5,True,'2022-03-19']\n",
        "krotka = (1,3,5,3,5)\n",
        "\n",
        "seria = pd.Series(lista)\n",
        "#seria = pd.Series(krotka)\n",
        "\n",
        "print(seria)"
      ]
    },
    {
      "cell_type": "markdown",
      "metadata": {
        "id": "KoRSXWjKoudP"
      },
      "source": [
        "###Etykiety serii\n",
        "Serie biblioteki pandas umożliwiają dodawanie etykiet, dzięki którym możliwe jest odowływanie się do elementów:\n"
      ]
    },
    {
      "cell_type": "code",
      "execution_count": null,
      "metadata": {
        "colab": {
          "base_uri": "https://localhost:8080/"
        },
        "id": "whl8jiOCozs5",
        "outputId": "3225a83e-e1f6-4515-b4a7-3b845b11194f"
      },
      "outputs": [
        {
          "name": "stdout",
          "output_type": "stream",
          "text": [
            "-------------- Lista ---------------\n",
            "\n",
            "[31, 28, 31, 30, 31, 30, 31, 31, 30, 31, 30, 31]\n",
            "\n",
            "-------- Seria (pandas) ------------\n",
            "\n",
            "0     31\n",
            "1     28\n",
            "2     31\n",
            "3     30\n",
            "4     31\n",
            "5     30\n",
            "6     31\n",
            "7     31\n",
            "8     30\n",
            "9     31\n",
            "10    30\n",
            "11    31\n",
            "dtype: int64\n",
            "\n",
            "Element o indeksie 0:  31\n",
            "\n",
            "------ Seria z etykietami ----------\n",
            "\n",
            "styczen        31\n",
            "luty           28\n",
            "marzec         31\n",
            "kwiecien       30\n",
            "maj            31\n",
            "czerwiec       30\n",
            "lipiec         31\n",
            "sierpien       31\n",
            "wrzesien       30\n",
            "pazdziernik    31\n",
            "listopad       30\n",
            "grudzien       31\n",
            "dtype: int64\n",
            "\n",
            "Element o indeksie \"styczen\":  31\n"
          ]
        }
      ],
      "source": [
        "import pandas as pd\n",
        "\n",
        "dm = [31,28,31,30,31,30,31,31,30,31,30,31]\n",
        "print(\"-------------- Lista ---------------\\n\")\n",
        "print(dm)\n",
        "\n",
        "data = pd.Series(dm) \n",
        "print(\"\\n-------- Seria (pandas) ------------\\n\")\n",
        "print(data)\n",
        "print(\"\\nElement o indeksie 0: \", data[0])\n",
        "\n",
        "etykiety_pl = [\"styczen\",\"luty\",\"marzec\",\"kwiecien\",\"maj\",\"czerwiec\",\n",
        "          \"lipiec\",\"sierpien\",\"wrzesien\",\"pazdziernik\",\"listopad\",\"grudzien\"]\n",
        "\n",
        "dataWithLabel = pd.Series(dm,index = etykiety_pl)\n",
        "\n",
        "print(\"\\n------ Seria z etykietami ----------\\n\")\n",
        "print(dataWithLabel)\n",
        "\n",
        "print(\"\\nElement o indeksie \\\"styczen\\\": \", dataWithLabel[\"styczen\"])"
      ]
    },
    {
      "cell_type": "markdown",
      "metadata": {
        "id": "ePuFZDVp1aOo"
      },
      "source": [
        "###Słownik jako seria.\n",
        "Słownik jest typem nieuporządkownym, ale z uwagi na skojarzenie klucza z wartością możliwe jest przekonwertowanie go na serię biblioteki pandas. Możliwe jest również konwersja tylko wybranych elementów słownika na serię:"
      ]
    },
    {
      "cell_type": "code",
      "execution_count": null,
      "metadata": {
        "colab": {
          "base_uri": "https://localhost:8080/"
        },
        "id": "kFB572Kf186v",
        "outputId": "cda89945-c794-4e47-a505-8e8f4cd4239a"
      },
      "outputs": [
        {
          "name": "stdout",
          "output_type": "stream",
          "text": [
            "\n",
            "------ Seria ze słownika ----------\n",
            "\n",
            "Styczen    31\n",
            "Luty       28\n",
            "Marzec     31\n",
            "dtype: int64\n",
            "\n",
            "--- Seria ze słownika (wybrane) ---\n",
            "\n",
            "Styczen    31\n",
            "Marzec     31\n",
            "dtype: int64\n"
          ]
        }
      ],
      "source": [
        "import pandas as pd\n",
        "slownik = {\"Styczen\": 31, \"Luty\": 28, \"Marzec\": 31}\n",
        "\n",
        "dataWithLabel = pd.Series(slownik)\n",
        "\n",
        "print(\"\\n------ Seria ze słownika ----------\\n\")\n",
        "print(dataWithLabel)\n",
        "\n",
        "dataWithLabel = pd.Series(slownik, index = [\"Styczen\",\"Marzec\"])\n",
        "print(\"\\n--- Seria ze słownika (wybrane) ---\\n\")\n",
        "print(dataWithLabel)\n"
      ]
    },
    {
      "cell_type": "markdown",
      "metadata": {
        "id": "7r73bx366kf0"
      },
      "source": [
        "###DataFrame - tablice dwuwymiarowe\n",
        "\n",
        "DataFrame to drugi obiekt typu tablicowego ale w przeciwieństwie do serii jest dwuwymiarowy (kolumny i wiersze).\n",
        "\n",
        "###Konwersja danych na DataFrame\n",
        "Poniższy przykład przedstawia konwersję złożonych danych na DataFrame:"
      ]
    },
    {
      "cell_type": "code",
      "execution_count": null,
      "metadata": {
        "colab": {
          "base_uri": "https://localhost:8080/"
        },
        "id": "gnABI8GK7MAP",
        "outputId": "e56caaa1-c241-49d4-e055-cf08ba8de559"
      },
      "outputs": [
        {
          "name": "stdout",
          "output_type": "stream",
          "text": [
            "         polish  days\n",
            "0       styczen    31\n",
            "1          luty    28\n",
            "2        marzec    31\n",
            "3      kwiecien    30\n",
            "4           maj    31\n",
            "5      czerwiec    30\n",
            "6        lipiec    31\n",
            "7      sierpien    31\n",
            "8      wrzesien    30\n",
            "9   pazdziernik    31\n",
            "10     listopad    30\n",
            "11     grudzien    31\n"
          ]
        }
      ],
      "source": [
        "import pandas as pd\n",
        "\n",
        "data = {\n",
        "    \"polish\": [\"styczen\",\"luty\",\"marzec\",\"kwiecien\",\"maj\",\"czerwiec\",\n",
        "                \"lipiec\",\"sierpien\",\"wrzesien\",\"pazdziernik\",\"listopad\",\"grudzien\"],\n",
        "    \"days\" :  [31,28,31,30,31,30,31,31,30,31,30,31]   \n",
        "}\n",
        "\n",
        "dataFrame = pd.DataFrame(data)\n",
        "\n",
        "print(dataFrame)"
      ]
    },
    {
      "cell_type": "markdown",
      "metadata": {
        "id": "Cs9IhbIi8SFT"
      },
      "source": [
        "###Podzbiory danych\n",
        "W celu wyświetlenia części danych można skorzystać z metod:\n",
        "- `head(n)` - zwraca `n` pierwszysch wierszy DataFrame (domyślnie 5)\n",
        "- `tail(n)` - zwraca `n` pierwszysch wierszy DataFrame\n",
        "- `loc[]` - zwraca wybrane wiersze i kolumny według poniższego schematu:\n",
        "\n",
        "  Składnia: `loc[start_row : stop_row , start_col : stop_col]`"
      ]
    },
    {
      "cell_type": "code",
      "execution_count": null,
      "metadata": {
        "colab": {
          "base_uri": "https://localhost:8080/"
        },
        "id": "NYgaOVcl8Dst",
        "outputId": "a60a6557-9f32-4605-f97d-9fffda50d17d"
      },
      "outputs": [
        {
          "name": "stdout",
          "output_type": "stream",
          "text": [
            "Początkowe i końcowe elementy DataFrame:\n",
            "\n",
            "     polish  days\n",
            "0   styczen    31\n",
            "1      luty    28\n",
            "2    marzec    31\n",
            "3  kwiecien    30\n",
            "4       maj    31\n",
            "------------------------------\n",
            "\n",
            "         polish  days\n",
            "8      wrzesien    30\n",
            "9   pazdziernik    31\n",
            "10     listopad    30\n",
            "11     grudzien    31\n",
            "------------------------------\n",
            "\n",
            "Wiersz o indeksie 2:\n",
            "\n",
            "polish    marzec\n",
            "days          31\n",
            "Name: 2, dtype: object\n",
            "------------------------------\n",
            "\n",
            "Wiersze o indeksie 2 i 4:\n",
            "\n",
            "   polish  days\n",
            "2  marzec    31\n",
            "4     maj    31\n",
            "------------------------------\n",
            "\n",
            "Trzy pierwsze wiersze, kolumna 'polish' - bez nagłówka!\n",
            "\n",
            "0     styczen\n",
            "1        luty\n",
            "2      marzec\n",
            "3    kwiecien\n",
            "Name: polish, dtype: object\n",
            "------------------------------\n",
            "\n",
            "Trzy pierwsze wiersze, kolumna 'polish' - z nagłówkiem!\n",
            "\n",
            "     polish\n",
            "0   styczen\n",
            "1      luty\n",
            "2    marzec\n",
            "3  kwiecien\n"
          ]
        }
      ],
      "source": [
        "import pandas as pd\n",
        "\n",
        "data = {\n",
        "    \"polish\": [\"styczen\",\"luty\",\"marzec\",\"kwiecien\",\"maj\",\"czerwiec\",\n",
        "                \"lipiec\",\"sierpien\",\"wrzesien\",\"pazdziernik\",\"listopad\",\"grudzien\"],\n",
        "    \"days\" :  [31,28,31,30,31,30,31,31,30,31,30,31]   \n",
        "}\n",
        "\n",
        "dataFrame = pd.DataFrame(data)\n",
        "\n",
        "print(\"Początkowe i końcowe elementy DataFrame:\\n\")\n",
        "print(dataFrame.head())\n",
        "print(\"------------------------------\\n\")\n",
        "print(dataFrame.tail(4))\n",
        "print(\"------------------------------\\n\")\n",
        "\n",
        "print(\"Wiersz o indeksie 2:\\n\")\n",
        "print(dataFrame.loc[2]) #To samo co loc[2,:]\n",
        "print(\"------------------------------\\n\")\n",
        "print(\"Wiersze o indeksie 2 i 4:\\n\")\n",
        "print(dataFrame.loc[[2, 4]])\n",
        "print(\"------------------------------\\n\")\n",
        "print(\"Trzy pierwsze wiersze, kolumna 'polish' - bez nagłówka!\\n\")\n",
        "print(dataFrame.loc[:3,'polish'])\n",
        "print(\"------------------------------\\n\")\n",
        "print(\"Trzy pierwsze wiersze, kolumna 'polish' - z nagłówkiem!\\n\")\n",
        "print(dataFrame.loc[:3,['polish']])"
      ]
    },
    {
      "cell_type": "markdown",
      "metadata": {
        "id": "f9Gy_ADw-ACA"
      },
      "source": [
        "### Indeksy wierszy\n",
        "Podobnie jak w seriach, w DataFrame możlwe jest dodanie własnych indeksów (nazw wierszy):"
      ]
    },
    {
      "cell_type": "code",
      "execution_count": null,
      "metadata": {
        "colab": {
          "base_uri": "https://localhost:8080/"
        },
        "id": "wSWg8Gse-MlC",
        "outputId": "a57cd969-2ab6-48c3-9a0b-675b9511bc4e"
      },
      "outputs": [
        {
          "name": "stdout",
          "output_type": "stream",
          "text": [
            "       polish  days\n",
            "Jan   styczen    31\n",
            "Feb      luty    28\n",
            "Mar    marzec    31\n",
            "Apr  kwiecien    30\n",
            "------------------------------\n",
            "\n",
            "polish    kwiecien\n",
            "days            30\n",
            "Name: Apr, dtype: object\n",
            "------------------------------\n",
            "\n",
            "       polish  days\n",
            "Apr  kwiecien    30\n",
            "Jan   styczen    31\n",
            "------------------------------\n",
            "\n",
            "       polish\n",
            "Apr  kwiecien\n",
            "Jan   styczen\n"
          ]
        }
      ],
      "source": [
        "import pandas as pd\n",
        "\n",
        "data = {\n",
        "    \"polish\": [\"styczen\",\"luty\",\"marzec\",\"kwiecien\"],\n",
        "    \"days\" :  [31,28,31,30]   \n",
        "}\n",
        "\n",
        "dataFrameWithIndex = pd.DataFrame(data, index = [\"Jan\",\"Feb\",\"Mar\",\"Apr\"])\n",
        "\n",
        "print(dataFrameWithIndex)\n",
        "\n",
        "#Korzystanie z atrybutu loc:\n",
        "\n",
        "print(\"------------------------------\\n\")\n",
        "print(dataFrameWithIndex.loc[\"Apr\"])\n",
        "\n",
        "print(\"------------------------------\\n\")\n",
        "print(dataFrameWithIndex.loc[[\"Apr\",\"Jan\"]])\n",
        "\n",
        "print(\"------------------------------\\n\")\n",
        "print(dataFrameWithIndex.loc[[\"Apr\",\"Jan\"],[\"polish\"]])"
      ]
    },
    {
      "cell_type": "markdown",
      "metadata": {
        "id": "Lbh8POTXCSHn"
      },
      "source": [
        "### Import danych z pliku\n",
        "\n",
        "W przypadku dużej ilości danych wygodne jest importowanie ich z zewnętrznego źródł np. pliku csv, xlsx, json itp.\n",
        "\n",
        "Podczas importowania należy zwrócić uwagę na sposób umieszczania danych (np. separator pliu CSV) oraz kodowanie pliku źródłowego (np. UTF-8)\n",
        "\n",
        "***\n",
        "Poniższe przykłady korzystają z importowanych danych z plików zewnętrznych.\n",
        "Pliki te są dostępne pod następującymi adresami:\n",
        "\n",
        "- CSV: https://drive.google.com/file/d/1V6m2aQpdGJYzz49D2Nl30xoiUTteU8GX/view?usp=sharing\n",
        "\n",
        "- XLSX: https://docs.google.com/spreadsheets/d/19U75bUX_q7Nm-pd4t7cI3iHOUPzTTpIz/edit?usp=sharing&ouid=107656940894809904425&rtpof=true&sd=true"
      ]
    },
    {
      "cell_type": "code",
      "execution_count": null,
      "metadata": {
        "id": "xTOCO8GYCYbr"
      },
      "outputs": [],
      "source": [
        "import pandas as pd\n",
        "\n",
        "dane = pd.read_csv(\"DanePogodowe2021.csv\",sep=\";\",encoding=\"UTF-8\",decimal=\",\")\n",
        "#dane = pd.read_excel(\"DanePogodowe2021.xlsx\")\n",
        "\n",
        "print(dane)"
      ]
    },
    {
      "cell_type": "markdown",
      "metadata": {
        "id": "4gVQrBLCqMIY"
      },
      "source": [
        "### Funkcje (metody) DataFrame\n",
        "\n",
        "Dokumentacja: https://pandas.pydata.org/pandas-docs/stable/reference/frame.html\n",
        "\n",
        "- Sortowanie - porządkowanie danych po indeksach `sort_index(ascending=False|True)` lub wartościach `sort_values(by=\"Klucz\",ascending=True)`. Sortowanie może być rosnące albo malejące.\n",
        "- Suma - suma `sum()`wszystkich wartości dla danego klucza\n",
        "- Min/Max - najmniejsza `min()` i największa `max()` wartość w zbiorze\n",
        "- Średnia - średnia arytmetyczna `mean()`, pomija wartości puste `mean(skipna=True)`\n",
        "- Odchylenie standardowe `std()` (pierwiastek kwadratowy z wariancji, wariancja to z kolei średnia kwadratów różnic wartości od średniej)\n",
        "- Mediana `median()` - wartość środkowa uporządkowanego zbioru\n",
        "- Dominata `mode()` - wartość przeważająca (najczęściej występująca)"
      ]
    },
    {
      "cell_type": "code",
      "execution_count": null,
      "metadata": {
        "colab": {
          "base_uri": "https://localhost:8080/"
        },
        "collapsed": true,
        "id": "UesVeAdIqTz9",
        "outputId": "7664b048-3ef9-4110-d3c3-d850cd1d13d8"
      },
      "outputs": [
        {
          "name": "stdout",
          "output_type": "stream",
          "text": [
            "   Fizyka  Matematyka  Chemia\n",
            "0    68.3          34      34\n",
            "1    84.0          46      45\n",
            "2    77.0          93      45\n",
            "3    78.0          59      84\n",
            "\n",
            "Sumy:\n",
            "Fizyka        307.3\n",
            "Matematyka    232.0\n",
            "Chemia        208.0\n",
            "dtype: float64\n",
            "\n",
            "Max:\n",
            "Fizyka        84.0\n",
            "Matematyka    93.0\n",
            "Chemia        84.0\n",
            "dtype: float64\n",
            "\n",
            "Min:\n",
            "Fizyka        68.3\n",
            "Matematyka    34.0\n",
            "Chemia        34.0\n",
            "dtype: float64\n",
            "     Fizyka  Matematyka  Chemia\n",
            "min    68.3          34      34\n",
            "max    84.0          93      84\n",
            "sum   307.3         232     208\n",
            "\n",
            "Średnie:\n",
            "Fizyka        76.825\n",
            "Matematyka    58.000\n",
            "Chemia        52.000\n",
            "dtype: float64\n",
            "\n",
            "Mediana:\n",
            "Fizyka        77.5\n",
            "Matematyka    52.5\n",
            "Chemia        45.0\n",
            "dtype: float64\n",
            "\n",
            "Dominata:\n",
            "   Fizyka  Matematyka  Chemia\n",
            "0    68.3          34    45.0\n",
            "1    77.0          46     NaN\n",
            "2    78.0          59     NaN\n",
            "3    84.0          93     NaN\n",
            "\n",
            "Odchylenie standardowe:\n",
            "Fizyka         6.469608\n",
            "Matematyka    25.468935\n",
            "Chemia        21.954498\n",
            "dtype: float64\n",
            "\n",
            "Posortowane po fizyce:\n",
            "   Fizyka  Matematyka  Chemia\n",
            "1    84.0          46      45\n",
            "3    78.0          59      84\n",
            "2    77.0          93      45\n",
            "0    68.3          34      34\n",
            "\n",
            "Posortowane po indeksach:\n",
            "   Fizyka  Matematyka  Chemia\n",
            "3    78.0          59      84\n",
            "2    77.0          93      45\n",
            "1    84.0          46      45\n",
            "0    68.3          34      34\n",
            "\n",
            "Info o danych:\n",
            "<class 'pandas.core.frame.DataFrame'>\n",
            "RangeIndex: 4 entries, 0 to 3\n",
            "Data columns (total 3 columns):\n",
            " #   Column      Non-Null Count  Dtype  \n",
            "---  ------      --------------  -----  \n",
            " 0   Fizyka      4 non-null      float64\n",
            " 1   Matematyka  4 non-null      int64  \n",
            " 2   Chemia      4 non-null      int64  \n",
            "dtypes: float64(1), int64(2)\n",
            "memory usage: 224.0 bytes\n",
            "None\n",
            "\n",
            "Opis danych:\n",
            "          Fizyka  Matematyka     Chemia\n",
            "count   4.000000    4.000000   4.000000\n",
            "mean   76.825000   58.000000  52.000000\n",
            "std     6.469608   25.468935  21.954498\n",
            "min    68.300000   34.000000  34.000000\n",
            "25%    74.825000   43.000000  42.250000\n",
            "50%    77.500000   52.500000  45.000000\n",
            "75%    79.500000   67.500000  54.750000\n",
            "max    84.000000   93.000000  84.000000\n"
          ]
        }
      ],
      "source": [
        "import pandas as pd\n",
        "\n",
        "oceny = { 'Fizyka': [68.3, 84, 77, 78],\n",
        "          'Matematyka': [34, 46, 93, 59],\n",
        "          'Chemia': [34, 45, 45, 84]}\n",
        "\n",
        "dane = pd.DataFrame(oceny)\n",
        "\n",
        "print(dane)\n",
        "print(\"\\nSumy:\")\n",
        "print(dane.sum())\n",
        "\n",
        "print(\"\\nMax:\")\n",
        "print(dane.max())\n",
        "\n",
        "print(\"\\nMin:\")\n",
        "print(dane.min())\n",
        "\n",
        "print(dane.agg([min,max,sum]))\n",
        "\n",
        "print(\"\\nŚrednie:\")\n",
        "print(dane.mean())\n",
        "\n",
        "print(\"\\nMediana:\")\n",
        "print(dane.median())\n",
        "\n",
        "print(\"\\nDominata:\")\n",
        "print(dane.mode())\n",
        "\n",
        "print(\"\\nOdchylenie standardowe:\")\n",
        "print(dane.std())\n",
        "\n",
        "print(\"\\nPosortowane po fizyce:\")\n",
        "print(dane.sort_values(by=\"Fizyka\", ascending=False))\n",
        "\n",
        "print(\"\\nPosortowane po indeksach:\")\n",
        "print(dane.sort_index(ascending=False))\n",
        "\n",
        "print(\"\\nInfo o danych:\")\n",
        "print(dane.info())\n",
        "\n",
        "print(\"\\nOpis danych:\")\n",
        "print(dane.describe())"
      ]
    },
    {
      "cell_type": "markdown",
      "metadata": {
        "id": "bpNPsdlPnNAL"
      },
      "source": [
        "### Eksport danych DataFrame\n",
        "\n",
        "Biblioteka pandas umożliwia eksport danych z DataFrame np. do pliku HTML lub Excel."
      ]
    },
    {
      "cell_type": "code",
      "execution_count": null,
      "metadata": {
        "id": "NyeRIXEZnUsj"
      },
      "outputs": [],
      "source": [
        "html = dane.to_html()\n",
        "#print(html)\n",
        "text_file = open(\"index.html\", \"w\")\n",
        "text_file.write(html)\n",
        "text_file.close()\n",
        "\n",
        "excel = pd.ExcelWriter('wynik.xlsx')\n",
        "dane.to_excel(excel)\n",
        "excel.save()"
      ]
    },
    {
      "cell_type": "markdown",
      "metadata": {
        "id": "jE4hu8S_8j2r"
      },
      "source": [
        "# 10\\. Filtrowanie danych\n",
        "\n"
      ]
    },
    {
      "cell_type": "code",
      "execution_count": null,
      "metadata": {
        "id": "QQpKcMJBqgZs"
      },
      "outputs": [],
      "source": [
        "#import bibliotek i danych\n",
        "import pandas as pd\n",
        "import matplotlib.pyplot as pl"
      ]
    },
    {
      "cell_type": "code",
      "execution_count": null,
      "metadata": {
        "id": "ufkJZ3-nqkcA"
      },
      "outputs": [],
      "source": [
        "dane = pd.read_csv(\"DanePogodowe2021null.csv\",sep=\";\",decimal=\",\")\n",
        "df = pd.DataFrame(dane)"
      ]
    },
    {
      "cell_type": "markdown",
      "metadata": {
        "id": "MLXKRD1aqs6X"
      },
      "source": [
        "##Usuwanie lub uzupełnianie pustych rekordów"
      ]
    },
    {
      "cell_type": "code",
      "execution_count": null,
      "metadata": {
        "colab": {
          "base_uri": "https://localhost:8080/"
        },
        "id": "MiSEGhxXrR9R",
        "outputId": "2b528fa8-9b2d-4268-88bf-e4f06b08315d"
      },
      "outputs": [
        {
          "name": "stdout",
          "output_type": "stream",
          "text": [
            "      Rok  Miesiąc  Dzień  Temperatura  Wiatr\n",
            "0    2021        1      1         -2.8    5.7\n",
            "1    2021        1      2         -1.9    NaN\n",
            "2    2021        1      3         -0.5    NaN\n",
            "3    2021        1      4          0.3    NaN\n",
            "4    2021        1      5         -0.2    NaN\n",
            "..    ...      ...    ...          ...    ...\n",
            "360  2021       12     27         -9.6    1.7\n",
            "361  2021       12     28         -2.7    6.0\n",
            "362  2021       12     29          2.9    NaN\n",
            "363  2021       12     30          6.3    7.7\n",
            "364  2021       12     31         10.5    7.0\n",
            "\n",
            "[365 rows x 5 columns]\n",
            "      Rok  Miesiąc  Dzień  Temperatura  Wiatr\n",
            "0    2021        1      1         -2.8    5.7\n",
            "7    2021        1      8         -0.8    7.7\n",
            "10   2021        1     11         -4.0    1.3\n",
            "12   2021        1     13         -0.3    6.3\n",
            "16   2021        1     17        -11.7    3.3\n",
            "..    ...      ...    ...          ...    ...\n",
            "359  2021       12     26        -10.6    1.0\n",
            "360  2021       12     27         -9.6    1.7\n",
            "361  2021       12     28         -2.7    6.0\n",
            "363  2021       12     30          6.3    7.7\n",
            "364  2021       12     31         10.5    7.0\n",
            "\n",
            "[266 rows x 5 columns]\n",
            "      Rok  Miesiąc  Dzień  Temperatura  Wiatr\n",
            "0    2021        1      1         -2.8    5.7\n",
            "1    2021        1      2         -1.9  123.0\n",
            "2    2021        1      3         -0.5  123.0\n",
            "3    2021        1      4          0.3  123.0\n",
            "4    2021        1      5         -0.2  123.0\n",
            "..    ...      ...    ...          ...    ...\n",
            "360  2021       12     27         -9.6    1.7\n",
            "361  2021       12     28         -2.7    6.0\n",
            "362  2021       12     29          2.9  123.0\n",
            "363  2021       12     30          6.3    7.7\n",
            "364  2021       12     31         10.5    7.0\n",
            "\n",
            "[365 rows x 5 columns]\n"
          ]
        }
      ],
      "source": [
        "df2 = df.dropna()\n",
        "\n",
        "print(df)\n",
        "print(df2)\n",
        "\n",
        "#df.dropna(inplace=True)\n",
        "#print(df)\n",
        "\n",
        "df3=df.fillna(123)\n",
        "print(df3)"
      ]
    },
    {
      "cell_type": "markdown",
      "metadata": {
        "id": "evaop984sX9N"
      },
      "source": [
        "##Wykrywanie i usuwanie duplikatów\n"
      ]
    },
    {
      "cell_type": "code",
      "execution_count": null,
      "metadata": {
        "id": "QXzTA1Lese9q"
      },
      "outputs": [],
      "source": [
        "lista = [1,2,3,4,5,6,7,5,4,5,6,7,5,43,4,5]\n",
        "df = pd.DataFrame(lista)\n",
        "\n",
        "print(df.duplicated())\n",
        "print(df.drop_duplicates())"
      ]
    },
    {
      "cell_type": "markdown",
      "metadata": {
        "id": "TekYPjqjtBi7"
      },
      "source": [
        "##Korelacja pomiędzy danymi"
      ]
    },
    {
      "cell_type": "code",
      "execution_count": null,
      "metadata": {
        "colab": {
          "base_uri": "https://localhost:8080/",
          "height": 326
        },
        "id": "TQGBNiiutAww",
        "outputId": "e6058e3e-54df-4f69-be5d-2f1222e07cc1"
      },
      "outputs": [
        {
          "name": "stdout",
          "output_type": "stream",
          "text": [
            "   Temp1  Temp2  Temp3\n",
            "0      1      3      2\n",
            "1      2      4      4\n",
            "2      3      5      6\n",
            "3      4      5      9\n",
            "4      3      4      5\n",
            "5      2      3      4\n",
            "6      1      2      2\n",
            "7      2      2      4\n",
            "8      3      1      7\n"
          ]
        },
        {
          "data": {
            "text/html": [
              "\n",
              "  <div id=\"df-4cb44ead-ffda-4798-980a-eb57b1e82b75\">\n",
              "    <div class=\"colab-df-container\">\n",
              "      <div>\n",
              "<style scoped>\n",
              "    .dataframe tbody tr th:only-of-type {\n",
              "        vertical-align: middle;\n",
              "    }\n",
              "\n",
              "    .dataframe tbody tr th {\n",
              "        vertical-align: top;\n",
              "    }\n",
              "\n",
              "    .dataframe thead th {\n",
              "        text-align: right;\n",
              "    }\n",
              "</style>\n",
              "<table border=\"1\" class=\"dataframe\">\n",
              "  <thead>\n",
              "    <tr style=\"text-align: right;\">\n",
              "      <th></th>\n",
              "      <th>Temp1</th>\n",
              "      <th>Temp2</th>\n",
              "      <th>Temp3</th>\n",
              "    </tr>\n",
              "  </thead>\n",
              "  <tbody>\n",
              "    <tr>\n",
              "      <th>Temp1</th>\n",
              "      <td>1.000000</td>\n",
              "      <td>0.478091</td>\n",
              "      <td>0.968936</td>\n",
              "    </tr>\n",
              "    <tr>\n",
              "      <th>Temp2</th>\n",
              "      <td>0.478091</td>\n",
              "      <td>1.000000</td>\n",
              "      <td>0.371466</td>\n",
              "    </tr>\n",
              "    <tr>\n",
              "      <th>Temp3</th>\n",
              "      <td>0.968936</td>\n",
              "      <td>0.371466</td>\n",
              "      <td>1.000000</td>\n",
              "    </tr>\n",
              "  </tbody>\n",
              "</table>\n",
              "</div>\n",
              "      <button class=\"colab-df-convert\" onclick=\"convertToInteractive('df-4cb44ead-ffda-4798-980a-eb57b1e82b75')\"\n",
              "              title=\"Convert this dataframe to an interactive table.\"\n",
              "              style=\"display:none;\">\n",
              "        \n",
              "  <svg xmlns=\"http://www.w3.org/2000/svg\" height=\"24px\"viewBox=\"0 0 24 24\"\n",
              "       width=\"24px\">\n",
              "    <path d=\"M0 0h24v24H0V0z\" fill=\"none\"/>\n",
              "    <path d=\"M18.56 5.44l.94 2.06.94-2.06 2.06-.94-2.06-.94-.94-2.06-.94 2.06-2.06.94zm-11 1L8.5 8.5l.94-2.06 2.06-.94-2.06-.94L8.5 2.5l-.94 2.06-2.06.94zm10 10l.94 2.06.94-2.06 2.06-.94-2.06-.94-.94-2.06-.94 2.06-2.06.94z\"/><path d=\"M17.41 7.96l-1.37-1.37c-.4-.4-.92-.59-1.43-.59-.52 0-1.04.2-1.43.59L10.3 9.45l-7.72 7.72c-.78.78-.78 2.05 0 2.83L4 21.41c.39.39.9.59 1.41.59.51 0 1.02-.2 1.41-.59l7.78-7.78 2.81-2.81c.8-.78.8-2.07 0-2.86zM5.41 20L4 18.59l7.72-7.72 1.47 1.35L5.41 20z\"/>\n",
              "  </svg>\n",
              "      </button>\n",
              "      \n",
              "  <style>\n",
              "    .colab-df-container {\n",
              "      display:flex;\n",
              "      flex-wrap:wrap;\n",
              "      gap: 12px;\n",
              "    }\n",
              "\n",
              "    .colab-df-convert {\n",
              "      background-color: #E8F0FE;\n",
              "      border: none;\n",
              "      border-radius: 50%;\n",
              "      cursor: pointer;\n",
              "      display: none;\n",
              "      fill: #1967D2;\n",
              "      height: 32px;\n",
              "      padding: 0 0 0 0;\n",
              "      width: 32px;\n",
              "    }\n",
              "\n",
              "    .colab-df-convert:hover {\n",
              "      background-color: #E2EBFA;\n",
              "      box-shadow: 0px 1px 2px rgba(60, 64, 67, 0.3), 0px 1px 3px 1px rgba(60, 64, 67, 0.15);\n",
              "      fill: #174EA6;\n",
              "    }\n",
              "\n",
              "    [theme=dark] .colab-df-convert {\n",
              "      background-color: #3B4455;\n",
              "      fill: #D2E3FC;\n",
              "    }\n",
              "\n",
              "    [theme=dark] .colab-df-convert:hover {\n",
              "      background-color: #434B5C;\n",
              "      box-shadow: 0px 1px 3px 1px rgba(0, 0, 0, 0.15);\n",
              "      filter: drop-shadow(0px 1px 2px rgba(0, 0, 0, 0.3));\n",
              "      fill: #FFFFFF;\n",
              "    }\n",
              "  </style>\n",
              "\n",
              "      <script>\n",
              "        const buttonEl =\n",
              "          document.querySelector('#df-4cb44ead-ffda-4798-980a-eb57b1e82b75 button.colab-df-convert');\n",
              "        buttonEl.style.display =\n",
              "          google.colab.kernel.accessAllowed ? 'block' : 'none';\n",
              "\n",
              "        async function convertToInteractive(key) {\n",
              "          const element = document.querySelector('#df-4cb44ead-ffda-4798-980a-eb57b1e82b75');\n",
              "          const dataTable =\n",
              "            await google.colab.kernel.invokeFunction('convertToInteractive',\n",
              "                                                     [key], {});\n",
              "          if (!dataTable) return;\n",
              "\n",
              "          const docLinkHtml = 'Like what you see? Visit the ' +\n",
              "            '<a target=\"_blank\" href=https://colab.research.google.com/notebooks/data_table.ipynb>data table notebook</a>'\n",
              "            + ' to learn more about interactive tables.';\n",
              "          element.innerHTML = '';\n",
              "          dataTable['output_type'] = 'display_data';\n",
              "          await google.colab.output.renderOutput(dataTable, element);\n",
              "          const docLink = document.createElement('div');\n",
              "          docLink.innerHTML = docLinkHtml;\n",
              "          element.appendChild(docLink);\n",
              "        }\n",
              "      </script>\n",
              "    </div>\n",
              "  </div>\n",
              "  "
            ],
            "text/plain": [
              "          Temp1     Temp2     Temp3\n",
              "Temp1  1.000000  0.478091  0.968936\n",
              "Temp2  0.478091  1.000000  0.371466\n",
              "Temp3  0.968936  0.371466  1.000000"
            ]
          },
          "execution_count": 61,
          "metadata": {},
          "output_type": "execute_result"
        }
      ],
      "source": [
        "dane = {'Temp1':[1,2,3,4,3,2,1,2,3],\n",
        "        'Temp2':[3,4,5,5,4,3,2,2,1],\n",
        "        'Temp3':[2,4,6,9,5,4,2,4,7],}\n",
        "        \n",
        "df = pd.DataFrame(dane)\n",
        "\n",
        "print(df)\n",
        "\n",
        "df.corr()"
      ]
    }
  ],
  "metadata": {
    "colab": {
      "collapsed_sections": [],
      "name": "Python - lekcja 4.ipynb",
      "provenance": []
    },
    "kernelspec": {
      "display_name": "Python 3",
      "name": "python3"
    },
    "language_info": {
      "name": "python"
    }
  },
  "nbformat": 4,
  "nbformat_minor": 0
}
