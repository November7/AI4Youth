{
 "cells": [
  {
   "cell_type": "markdown",
   "id": "2c905107",
   "metadata": {},
   "source": [
    "## Regresja logistyczna\n",
    "### 1. Wstęp\n",
    "\n",
    "Regresja logistyczna to technika statystyczna używana do przewidywania zmiennej zależnej o charakterze binarnym, czyli takiej, która przyjmuje tylko dwie wartości — np. tak/nie, 0/1, pozytywne/negatywne."
   ]
  },
  {
   "cell_type": "markdown",
   "id": "a7364e2f",
   "metadata": {},
   "source": [
    "### 1.1 Przykład Regresji logistycznej\n",
    "\n",
    "Dane w pliku to id, płeć, zarobki, wiek, oraz zmienna zależna: dokona zakupu czy nie (0/1)"
   ]
  },
  {
   "cell_type": "code",
   "execution_count": 5,
   "id": "2ec88c57",
   "metadata": {},
   "outputs": [
    {
     "name": "stdout",
     "output_type": "stream",
     "text": [
      "    User ID  Gender  Age  EstimatedSalary  Purchased\n",
      "0  15624510    Male   19            19000          0\n",
      "1  15810944    Male   35            20000          0\n",
      "2  15668575  Female   26            43000          0\n",
      "3  15603246  Female   27            57000          0\n",
      "4  15804002    Male   19            76000          0\n",
      "<class 'pandas.core.frame.DataFrame'>\n",
      "RangeIndex: 400 entries, 0 to 399\n",
      "Data columns (total 5 columns):\n",
      " #   Column           Non-Null Count  Dtype \n",
      "---  ------           --------------  ----- \n",
      " 0   User ID          400 non-null    int64 \n",
      " 1   Gender           400 non-null    object\n",
      " 2   Age              400 non-null    int64 \n",
      " 3   EstimatedSalary  400 non-null    int64 \n",
      " 4   Purchased        400 non-null    int64 \n",
      "dtypes: int64(4), object(1)\n",
      "memory usage: 15.8+ KB\n",
      "None\n",
      "    User ID  Gender  Age  EstimatedSalary  Purchased\n",
      "0  15624510       1   19            19000          0\n",
      "1  15810944       1   35            20000          0\n",
      "2  15668575       0   26            43000          0\n",
      "3  15603246       0   27            57000          0\n",
      "4  15804002       1   19            76000          0\n",
      "0.8392857142857143\n",
      "0.8333333333333334\n",
      "0.8333333333333334\n",
      "              precision    recall  f1-score   support\n",
      "\n",
      "           0       0.83      0.93      0.88        76\n",
      "           1       0.85      0.66      0.74        44\n",
      "\n",
      "    accuracy                           0.83       120\n",
      "   macro avg       0.84      0.80      0.81       120\n",
      "weighted avg       0.84      0.83      0.83       120\n",
      "\n",
      "[[71  5]\n",
      " [15 29]]\n"
     ]
    },
    {
     "data": {
      "image/png": "[encoded data removed]",
      "text/plain": [
       "<Figure size 640x480 with 2 Axes>"
      ]
     },
     "metadata": {},
     "output_type": "display_data"
    }
   ],
   "source": [
    "import numpy as np\n",
    "import pandas as pd\n",
    "from sklearn.linear_model import LogisticRegression\n",
    "from sklearn.model_selection import train_test_split\n",
    "from sklearn.metrics import classification_report, confusion_matrix, accuracy_score\n",
    "import matplotlib.pyplot as plt\n",
    "import seaborn as sn\n",
    "\n",
    "dane = pd.read_csv('PurchasesByGender.csv')\n",
    "\n",
    "print(dane.head())\n",
    "print(dane.info())\n",
    "\n",
    "dane['Gender'] = dane['Gender'].map(lambda x: 1 if x == \"Male\" else 0)\n",
    "\n",
    "print(dane.head())\n",
    "\n",
    "X = np.array(dane[[\"Gender\",\"Age\",\"EstimatedSalary\"]])\n",
    "y = np.array(dane[\"Purchased\"])\n",
    "\n",
    "X_train, X_test, y_train, y_test = train_test_split(X, y, test_size=0.3)\n",
    "\n",
    "model = LogisticRegression(max_iter=2000)\n",
    "\n",
    "model.fit(X_train, y_train)\n",
    "y_pred = model.predict(X_test)\n",
    "\n",
    "print(model.score(X_train,y_train))\n",
    "print(model.score(X_test,y_test))\n",
    "print(accuracy_score(y_test, y_pred))\n",
    "\n",
    "print(classification_report(y_test, y_pred))\n",
    "\n",
    "print(confusion_matrix(y_test, y_pred)) # TN, FP, FN, TP\n",
    "\n",
    "sn.heatmap(confusion_matrix(y_test, y_pred),annot=True)\n",
    "           \n",
    "plt.show()"
   ]
  },
  {
   "cell_type": "markdown",
   "id": "aaa6eee7",
   "metadata": {},
   "source": [
    "### 1.2. Testowanie aplikacji na danych zewnętrznych"
   ]
  },
  {
   "cell_type": "code",
   "execution_count": null,
   "id": "7de746ac",
   "metadata": {},
   "outputs": [
    {
     "name": "stdout",
     "output_type": "stream",
     "text": [
      "[1]\n"
     ]
    }
   ],
   "source": [
    "#przykładowe dane\n",
    "gender, age, salary = [1, 30, 50000]  \n",
    "\n",
    "X_input = np.array([gender, age, salary]).reshape(1, -1)\n",
    "print(model.predict(X_input))"
   ]
  }
 ],
 "metadata": {
  "kernelspec": {
   "display_name": "Python 3",
   "language": "python",
   "name": "python3"
  },
  "language_info": {
   "codemirror_mode": {
    "name": "ipython",
    "version": 3
   },
   "file_extension": ".py",
   "mimetype": "text/x-python",
   "name": "python",
   "nbconvert_exporter": "python",
   "pygments_lexer": "ipython3",
   "version": "3.13.2"
  }
 },
 "nbformat": 4,
 "nbformat_minor": 5
}
