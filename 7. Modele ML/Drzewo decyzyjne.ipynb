{
 "cells": [
  {
   "cell_type": "markdown",
   "id": "81f65085",
   "metadata": {},
   "source": [
    "## Drzewo decyzyjne\n",
    "\n",
    "### 1. Wstęp"
   ]
  },
  {
   "cell_type": "markdown",
   "id": "8ecc1476",
   "metadata": {},
   "source": [
    "### 1.1. Przykład\n",
    "Dane w pliku to id, płeć, zarobki, wiek, oraz zmienna zależna: dokona zakupu czy nie (0/1)"
   ]
  },
  {
   "cell_type": "code",
   "execution_count": 12,
   "id": "5a601ae3",
   "metadata": {},
   "outputs": [
    {
     "name": "stdout",
     "output_type": "stream",
     "text": [
      "Dokładność: 0.925\n",
      "Raport klasyfikacji:\n",
      "               precision    recall  f1-score   support\n",
      "\n",
      "           0       0.93      0.95      0.94        73\n",
      "           1       0.91      0.89      0.90        47\n",
      "\n",
      "    accuracy                           0.93       120\n",
      "   macro avg       0.92      0.92      0.92       120\n",
      "weighted avg       0.92      0.93      0.92       120\n",
      "\n",
      "[[69  4]\n",
      " [ 5 42]]\n"
     ]
    },
    {
     "data": {
      "image/png": "[encoded data removed]",
      "text/plain": [
       "<Figure size 640x480 with 2 Axes>"
      ]
     },
     "metadata": {},
     "output_type": "display_data"
    }
   ],
   "source": [
    "import pandas as pd\n",
    "from sklearn.model_selection import train_test_split\n",
    "from sklearn.preprocessing import LabelEncoder\n",
    "from sklearn.tree import DecisionTreeClassifier, plot_tree\n",
    "from sklearn.metrics import classification_report, accuracy_score, confusion_matrix\n",
    "import seaborn as sns\n",
    "import matplotlib.pyplot as plt\n",
    "\n",
    "# Wczytanie danych\n",
    "df = pd.read_csv(\"PurchasesByGender.csv\")\n",
    "\n",
    "# Przekształcenie kolumny 'Gender' na wartości numeryczne\n",
    "df[\"Gender\"] = LabelEncoder().fit_transform(df[\"Gender\"])  # Male=1, Female=0\n",
    "\n",
    "# Wybór cech (feature columns) i etykiety (target)\n",
    "X = df[[\"Gender\", \"Age\", \"EstimatedSalary\"]]\n",
    "y = df[\"Purchased\"]\n",
    "\n",
    "# Podział na dane treningowe i testowe\n",
    "X_train, X_test, y_train, y_test = train_test_split(X, y, test_size=0.3, random_state=42)\n",
    "\n",
    "# Tworzenie modelu drzewa decyzyjnego\n",
    "clf = DecisionTreeClassifier(max_depth=4, random_state=42)\n",
    "clf.fit(X_train, y_train)\n",
    "\n",
    "# Przewidywanie\n",
    "y_pred = clf.predict(X_test)\n",
    "\n",
    "# Ocena modelu\n",
    "print(\"Dokładność:\", accuracy_score(y_test, y_pred))\n",
    "print(\"Raport klasyfikacji:\\n\", classification_report(y_test, y_pred))\n",
    "\n",
    "print(confusion_matrix(y_test, y_pred)) # TN, FP, FN, TP\n",
    "\n",
    "sns.heatmap(confusion_matrix(y_test, y_pred),annot=True)\n",
    "           \n",
    "plt.show()\n"
   ]
  },
  {
   "cell_type": "markdown",
   "id": "f8492fdf",
   "metadata": {},
   "source": [
    "### 1.2 Drukowanie wyglądu drzewa decyzyjnego"
   ]
  },
  {
   "cell_type": "code",
   "execution_count": null,
   "id": "977eb278",
   "metadata": {},
   "outputs": [],
   "source": [
    "plt.figure(figsize=(20, 10))  # rozmiar rysunku\n",
    "plot_tree(clf, \n",
    "          feature_names=[\"Gender\", \"Age\", \"EstimatedSalary\"],\n",
    "          class_names=[\"Nie kupił\", \"Kupił\"],\n",
    "          filled=True, \n",
    "          rounded=True)\n",
    "plt.title(\"Graficzne przedstawienie drzewa decyzyjnego\")\n",
    "plt.show()"
   ]
  }
 ],
 "metadata": {
  "kernelspec": {
   "display_name": "Python 3",
   "language": "python",
   "name": "python3"
  },
  "language_info": {
   "codemirror_mode": {
    "name": "ipython",
    "version": 3
   },
   "file_extension": ".py",
   "mimetype": "text/x-python",
   "name": "python",
   "nbconvert_exporter": "python",
   "pygments_lexer": "ipython3",
   "version": "3.13.2"
  }
 },
 "nbformat": 4,
 "nbformat_minor": 5
}
